{
 "cells": [
  {
   "cell_type": "code",
   "execution_count": 1,
   "metadata": {
    "ExecuteTime": {
     "end_time": "2020-08-10T18:12:17.961221Z",
     "start_time": "2020-08-10T18:12:16.641239Z"
    }
   },
   "outputs": [],
   "source": [
    "#!/usr/bin/python\n",
    "# -*- coding: utf-8 -*-\n",
    "import sys\n",
    "import math\n",
    "from typing import List, Tuple\n",
    "from collections import namedtuple\n",
    "import matplotlib.pyplot as plt\n",
    "import random\n",
    "from tqdm.notebook import tqdm\n",
    "from itertools import product\n",
    "from mip import Model, xsum, minimize, OptimizationStatus, VarList, SearchEmphasis, ConstrsGenerator, CutPool\n",
    "import datetime\n",
    "from random import shuffle\n",
    "import networkx as nx\n",
    "\n",
    "plt.rcParams['figure.figsize'] = [18, 13]"
   ]
  },
  {
   "cell_type": "code",
   "execution_count": 2,
   "metadata": {
    "ExecuteTime": {
     "end_time": "2020-08-10T18:12:18.017235Z",
     "start_time": "2020-08-10T18:12:17.963176Z"
    }
   },
   "outputs": [],
   "source": [
    "Point = namedtuple(\"Point\", ['x', 'y'])\n",
    "\n",
    "def length(point1, point2):\n",
    "    return math.sqrt((point1.x - point2.x)**2 + (point1.y - point2.y)**2)\n",
    "\n",
    "def sol_plot(solution,points):\n",
    "    nodeCount=len(points)\n",
    "    # plot the solution\n",
    "    j=0\n",
    "    for i in points:\n",
    "        plt.plot(i.x, i.y,'ko')\n",
    "        #plt.annotate(j,(i.x, i.y))\n",
    "        j=j+1\n",
    "    \n",
    "    for i in range(-1, nodeCount-1):\n",
    "        plt.plot((points[solution[i]].x, points[solution[i+1]].x),\n",
    "                 (points[solution[i]].y, points[solution[i+1]].y),'-')\n",
    "        \n",
    "def objec(solution,points,d_m):\n",
    "    nodeCount=len(points)\n",
    "    obj = d_m[solution[-1]][solution[0]]\n",
    "    for index in range(0, nodeCount-1):\n",
    "        obj += d_m[solution[index]][solution[index+1]]\n",
    "    return obj\n",
    "\n",
    "def idx_two_opt(sol, idx1, idx2):\n",
    "    # makes the reversal \n",
    "    if idx1<idx2:\n",
    "        sol1=sol[:idx1]\n",
    "        sol2=list(reversed(sol[idx1:idx2+1]))\n",
    "        sol3=sol[idx2+1:]\n",
    "    else:\n",
    "        sol1=sol[:idx2]\n",
    "        sol2=list(reversed(sol[idx2:idx1+1]))\n",
    "        sol3=sol[idx1+1:]\n",
    "    new_sol=sol1+sol2+sol3\n",
    "    return new_sol\n",
    "        \n",
    "def two_opt_search(sol,points,d_m):\n",
    "    nodeCount=len(points)\n",
    "    best_sol=sol\n",
    "    best_obj=objec(sol,points,d_m)\n",
    "    for i in tqdm(range(nodeCount)):\n",
    "            for j in range(nodeCount):\n",
    "                p_sol=idx_two_opt(best_sol,i,j)\n",
    "                p_obj=objec(p_sol,points,d_m)\n",
    "                if p_obj<best_obj:\n",
    "                    best_sol=p_sol\n",
    "                    best_obj=p_obj\n",
    "    return best_sol\n",
    "        \n",
    "#def SubTourDetector(x, nodes):\n",
    " #   sol= [0]\n",
    "  #  rem_nodes = nodes\n",
    "   # c_node=0\n",
    "    #for j in range(nodeCount-1):\n",
    "     #   for i in range(nodeCount):\n",
    "      #      if round(m.var_by_name(\"x{}_{}\".format(c_node,i)).x) != 0:\n",
    "       #         sol.append(i)\n",
    "        #        c_node=i\n",
    "         #       break\n",
    "\n",
    "        \n",
    "class SubTourCutGenerator(ConstrsGenerator):\n",
    "    \"\"\"Class to generate cutting planes for the TSP\"\"\"\n",
    "    def __init__(self, Fl: List[Tuple[int, int]], x_, V_):\n",
    "        self.F, self.x, self.V = Fl, x_, V_\n",
    "\n",
    "    def generate_constrs(self, model: Model, depth: int = 0, npass: int = 0):\n",
    "        xf, V_, cp, G = model.translate(self.x), self.V, CutPool(), nx.DiGraph()\n",
    "        for (u, v) in [(k, l) for (k, l) in product(V_, V_) if k != l and xf[k][l]]:\n",
    "            G.add_edge(u, v, capacity=xf[u][v].x)\n",
    "        for (u, v) in self.F:\n",
    "            val, (S, NS) = nx.minimum_cut(G, u, v)\n",
    "            if val <= 0.99:\n",
    "                aInS = [(xf[i][j], xf[i][j].x)\n",
    "                        for (i, j) in product(V_, V_) if i != j and xf[i][j] and i in S and j in S]\n",
    "                if sum(f for v, f in aInS) >= (len(S)-1)+1e-4:\n",
    "                    cut = xsum(1.0*v for v, fm in aInS) <= len(S)-1\n",
    "                    cp.add(cut)\n",
    "                    if len(cp.cuts) > 256:\n",
    "                        for cut in cp.cuts:\n",
    "                            model += cut\n",
    "                        return\n",
    "        for cut in cp.cuts:\n",
    "            model += cut        \n",
    "\n",
    "def tsp_mip_solver(input_data):\n",
    "    # parse the input\n",
    "    lines = input_data.split('\\n')\n",
    "\n",
    "    nodeCount = int(lines[0])\n",
    "\n",
    "    points = []\n",
    "    for i in range(1, nodeCount+1):\n",
    "        line = lines[i]\n",
    "        parts = line.split()\n",
    "        points.append(Point(float(parts[0]), float(parts[1])))\n",
    "    print('Points parsed!')\n",
    "    \n",
    "    # calculate distance matrix\n",
    "    d_m = [ [length(q,p) for q in points] for p in points]\n",
    "    print('Distance matrix ready!')\n",
    "    \n",
    "    # declare MIP model\n",
    "    m = Model(solver_name='GRB')\n",
    "    print('-Model instatiated!',datetime.datetime.now())\n",
    "    \n",
    "    # states search emphasis\n",
    "    #     - '0' (default) balanced approach\n",
    "    #     - '1' (feasibility) aggressively searches for feasible solutions\n",
    "    #     - '2' (optimality) explores search space to tighten dual gap\n",
    "    m.emphasis = 1\n",
    "    \n",
    "    # whenever the distance of the lower and upper bounds is less or \n",
    "    # equal max_gap*100%, the search can be finished\n",
    "    m.max_gap = 0.05\n",
    "    \n",
    "    # specifies number of used threads\n",
    "    # 0 uses solver default configuration, \n",
    "    # -1 uses the number of available processing cores \n",
    "    # ≥1 uses the specified number of threads. \n",
    "    # An increased number of threads may improve the solution time but also increases \n",
    "    # the memory consumption. Each thread needs to store a different model instance!\n",
    "    m.threads = -1\n",
    "    \n",
    "    \n",
    "    # controls the generation of cutting planes\n",
    "    # cutting planes usually improve the LP relaxation bound but also make the solution time of the LP relaxation larger\n",
    "    # -1 means automatic\n",
    "    #  0 disables completely\n",
    "    #  1 (default) generates cutting planes in a moderate way\n",
    "    #  2 generates cutting planes aggressively\n",
    "    #  3 generates even more cutting planes\n",
    "    m.cuts=3\n",
    "    \n",
    "    m.preprocess=1\n",
    "    m.pump_passes=10\n",
    "    m.sol_pool_size=1\n",
    "    \n",
    "    # defining nodes as a set\n",
    "    nodes = set(range(nodeCount))\n",
    "    \n",
    "    # defining possible transitions from node to node\n",
    "    arcs = [(i, j) for (i, j) in product(nodes, nodes) if i != j]\n",
    "    \n",
    "    \n",
    "    # instantiate \"entering and leaving\" variables\n",
    "    x = [ [m.add_var(name=\"x{}_{}\".format(p,q),var_type='B') for q in nodes] for p in nodes ] \n",
    "    # instantiate subtour elimination variables \n",
    "    y = [ m.add_var(name=\"y{}\".format(i)) for i in nodes ]\n",
    "    print('-Variables instantiated',datetime.datetime.now())\n",
    "    \n",
    "    # declare objective function\n",
    "    m.objective = minimize( xsum( d_m[i][j]*x[i][j] for i in nodes for j in nodes) )\n",
    "    \n",
    "    print('-Objective declared!',datetime.datetime.now())\n",
    "    \n",
    "    # declare constraints\n",
    "    # leave each city only once\n",
    "    for i in nodes:\n",
    "        m.add_constr( xsum(x[i][j] for j in nodes - {i}) == 1 )\n",
    "\n",
    "    # enter each city only once\n",
    "    for i in nodes:\n",
    "        m.add_constr( xsum(x[j][i] for j in nodes - {i}) == 1 )\n",
    "    \n",
    "    # weak subtour elimination constraints\n",
    "    for (i, j) in tqdm(product(nodes - {0}, nodes - {0})):\n",
    "        if i != j:\n",
    "            m.add_constr( y[i] - (nodeCount+1)*x[i][j] >= y[j]-nodeCount )\n",
    "            \n",
    "    # size 2 subtour elimination constraints\n",
    "    for (i, j) in arcs:\n",
    "            m.add_constr( x[i][j] + x[j][i] <= 1 )\n",
    "            \n",
    "            \n",
    "            \n",
    "    print('-Constraints declared!',datetime.datetime.now())\n",
    "    \n",
    "    #Maximum time in seconds that the search can go on if a feasible solution \n",
    "    #is available and it is not being improved\n",
    "    mssi = 1000 #default = inf\n",
    "    # specifies maximum number of nodes to be explored in the search tree (default = inf)\n",
    "    mn = 100000 #default = 1073741824\n",
    "    # optimize model m within a processing time limit of 'ms' seconds\n",
    "    ms = 3000 #default = inf\n",
    "    \n",
    "    S=[i for i in range(nodeCount)]\n",
    "    n_it = 5\n",
    "    thld = 0.99\n",
    "    obj = objec(S,points,d_m)\n",
    "    for i in range(n_it):\n",
    "        print('Two opt it ({}/{})'.format(i+1,n_it))\n",
    "        s_obj = obj\n",
    "        S = two_opt_search(S,points,d_m)\n",
    "        obj=objec(S,points,d_m)\n",
    "        print('S obj = {} / F obj = {}'.format(s_obj,obj))\n",
    "        if obj/s_obj >= thld:\n",
    "            print('No significant improvement, breaking.')\n",
    "            break\n",
    "            \n",
    "    # warm start with best 2-opt solution\n",
    "    m.start = [(x[S[k-1]][S[k]], 1.0) for k in range(nodeCount)]\n",
    "    \n",
    "    # computing farthest point for each point, these will be checked first for\n",
    "    # isolated subtours\n",
    "    F, G = [], nx.DiGraph()\n",
    "    for (i, j) in arcs:\n",
    "        G.add_edge(i, j, weight=d_m[i][j])\n",
    "    for i in nodes:\n",
    "        P, D = nx.dijkstra_predecessor_and_distance(G, source=i)\n",
    "        DS = list(D.items())\n",
    "        DS.sort(key=lambda x: x[1])\n",
    "        F.append((i, DS[-1][0]))\n",
    "    \n",
    "    # sets up the cut generator\n",
    "    m.cuts_generator = SubTourCutGenerator(F, x, nodes)\n",
    "    \n",
    "    # executes the optimization\n",
    "    print('-Optimizer start.',datetime.datetime.now())\n",
    "    status = m.optimize(max_seconds = ms)\n",
    "\n",
    "    print('Opt. Status:',status)\n",
    "    print('MIP Sol. Obj.:',m.objective_value)\n",
    "    print('Dual Bound:',m.objective_bound)\n",
    "    print('Dual gap:',m.gap)\n",
    "    \n",
    "    sol= [0]\n",
    "    c_node=0\n",
    "    for j in range(nodeCount-1):\n",
    "        for i in range(nodeCount):\n",
    "            if round(m.var_by_name(\"x{}_{}\".format(c_node,i)).x) != 0:\n",
    "                sol.append(i)\n",
    "                c_node=i\n",
    "                break\n",
    "    print(sol)\n",
    "    \n",
    "    \n",
    "    sol_plot(sol,points)\n",
    "    obj=m.objective_value\n",
    "    \n",
    "    # prepare the solution in the specified output format\n",
    "    if status == OptimizationStatus.OPTIMAL:\n",
    "        output_data = '%.2f' % obj + ' ' + str(1) + '\\n'\n",
    "        output_data += ' '.join(map(str, sol))\n",
    "    elif status == OptimizationStatus.FEASIBLE:\n",
    "        output_data = '%.2f' % obj + ' ' + str(0) + '\\n'\n",
    "        output_data += ' '.join(map(str, sol))\n",
    "\n",
    "    return output_data"
   ]
  },
  {
   "cell_type": "code",
   "execution_count": null,
   "metadata": {
    "ExecuteTime": {
     "start_time": "2020-08-10T18:12:16.619Z"
    }
   },
   "outputs": [
    {
     "name": "stderr",
     "output_type": "stream",
     "text": [
      "gurobi version 9.0 found\n"
     ]
    },
    {
     "name": "stdout",
     "output_type": "stream",
     "text": [
      "Points parsed!\n",
      "Distance matrix ready!\n",
      "-Model instatiated! 2020-08-10 15:12:18.296437\n",
      "-Variables instantiated 2020-08-10 15:12:19.391214\n",
      "-Objective declared! 2020-08-10 15:12:20.845247\n"
     ]
    },
    {
     "data": {
      "application/vnd.jupyter.widget-view+json": {
       "model_id": "2951bfc1898c45228aaa9deb330bfd3d",
       "version_major": 2,
       "version_minor": 0
      },
      "text/plain": [
       "HBox(children=(FloatProgress(value=1.0, bar_style='info', max=1.0), HTML(value='')))"
      ]
     },
     "metadata": {},
     "output_type": "display_data"
    },
    {
     "name": "stdout",
     "output_type": "stream",
     "text": [
      "\n",
      "-Constraints declared! 2020-08-10 15:12:30.818353\n",
      "Two opt it (1/5)\n"
     ]
    },
    {
     "data": {
      "application/vnd.jupyter.widget-view+json": {
       "model_id": "8d1b299b54a247bcb98735efefe48f27",
       "version_major": 2,
       "version_minor": 0
      },
      "text/plain": [
       "HBox(children=(FloatProgress(value=0.0, max=439.0), HTML(value='')))"
      ]
     },
     "metadata": {},
     "output_type": "display_data"
    },
    {
     "name": "stdout",
     "output_type": "stream",
     "text": [
      "\n",
      "S obj = 270651.6048375016 / F obj = 123168.30910223635\n",
      "Two opt it (2/5)\n"
     ]
    },
    {
     "data": {
      "application/vnd.jupyter.widget-view+json": {
       "model_id": "a643f177a7444e62807a76424505a5db",
       "version_major": 2,
       "version_minor": 0
      },
      "text/plain": [
       "HBox(children=(FloatProgress(value=0.0, max=439.0), HTML(value='')))"
      ]
     },
     "metadata": {},
     "output_type": "display_data"
    },
    {
     "name": "stdout",
     "output_type": "stream",
     "text": [
      "\n",
      "S obj = 123168.30910223635 / F obj = 119797.14802261263\n",
      "Two opt it (3/5)\n"
     ]
    },
    {
     "data": {
      "application/vnd.jupyter.widget-view+json": {
       "model_id": "9090013916ee40d28ed9bf4531950821",
       "version_major": 2,
       "version_minor": 0
      },
      "text/plain": [
       "HBox(children=(FloatProgress(value=0.0, max=439.0), HTML(value='')))"
      ]
     },
     "metadata": {},
     "output_type": "display_data"
    },
    {
     "name": "stdout",
     "output_type": "stream",
     "text": [
      "\n",
      "S obj = 119797.14802261263 / F obj = 119143.38711929119\n",
      "No significant improvement, breaking.\n",
      "-Optimizer start. 2020-08-10 15:13:50.235144\n"
     ]
    }
   ],
   "source": [
    "import os\n",
    "notebook_path = os.path.abspath(\"Notebook.ipynb\")\n",
    "data_path = os.path.join(os.path.dirname(notebook_path), \"data\\\\tsp_439_1\")\n",
    "\n",
    "if len(data_path) > 1:\n",
    "    file_location = data_path.strip()\n",
    "    with open(file_location, 'r') as input_data_file:\n",
    "        input_data = input_data_file.read()\n",
    "        print(tsp_mip_solver(input_data))\n"
   ]
  },
  {
   "cell_type": "code",
   "execution_count": null,
   "metadata": {},
   "outputs": [],
   "source": []
  }
 ],
 "metadata": {
  "kernelspec": {
   "display_name": "Python 3",
   "language": "python",
   "name": "python3"
  },
  "language_info": {
   "codemirror_mode": {
    "name": "ipython",
    "version": 3
   },
   "file_extension": ".py",
   "mimetype": "text/x-python",
   "name": "python",
   "nbconvert_exporter": "python",
   "pygments_lexer": "ipython3",
   "version": "3.6.7"
  }
 },
 "nbformat": 4,
 "nbformat_minor": 4
}
