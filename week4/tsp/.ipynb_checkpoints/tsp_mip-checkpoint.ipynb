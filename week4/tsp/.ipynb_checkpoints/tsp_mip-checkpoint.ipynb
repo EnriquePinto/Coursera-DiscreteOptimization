{
 "cells": [
  {
   "cell_type": "code",
   "execution_count": 1,
   "metadata": {
    "ExecuteTime": {
     "end_time": "2020-08-07T18:52:53.845898Z",
     "start_time": "2020-08-07T18:52:53.317233Z"
    }
   },
   "outputs": [],
   "source": [
    "#!/usr/bin/python\n",
    "# -*- coding: utf-8 -*-\n",
    "import sys\n",
    "import math\n",
    "from collections import namedtuple\n",
    "import matplotlib.pyplot as plt\n",
    "import random\n",
    "from tqdm.notebook import tqdm\n",
    "from itertools import product\n",
    "from mip import Model, xsum, minimize, OptimizationStatus, VarList, SearchEmphasis\n",
    "import datetime\n",
    "\n",
    "plt.rcParams['figure.figsize'] = [18, 13]"
   ]
  },
  {
   "cell_type": "code",
   "execution_count": 2,
   "metadata": {
    "ExecuteTime": {
     "end_time": "2020-08-07T18:52:53.877899Z",
     "start_time": "2020-08-07T18:52:53.847877Z"
    }
   },
   "outputs": [],
   "source": [
    "Point = namedtuple(\"Point\", ['x', 'y'])\n",
    "\n",
    "def length(point1, point2):\n",
    "    return math.sqrt((point1.x - point2.x)**2 + (point1.y - point2.y)**2)\n",
    "\n",
    "def sol_plot(solution,points):\n",
    "    nodeCount=len(points)\n",
    "    # plot the solution\n",
    "    j=0\n",
    "    for i in points:\n",
    "        plt.plot(i.x, i.y,'ko')\n",
    "        #plt.annotate(j,(i.x, i.y))\n",
    "        j=j+1\n",
    "    \n",
    "    for i in range(-1, nodeCount-1):\n",
    "        plt.plot((points[solution[i]].x, points[solution[i+1]].x),\n",
    "                 (points[solution[i]].y, points[solution[i+1]].y),'-')\n",
    "\n",
    "def tsp_mip_solver(input_data):\n",
    "    # parse the input\n",
    "    lines = input_data.split('\\n')\n",
    "\n",
    "    nodeCount = int(lines[0])\n",
    "\n",
    "    points = []\n",
    "    for i in range(1, nodeCount+1):\n",
    "        line = lines[i]\n",
    "        parts = line.split()\n",
    "        points.append(Point(float(parts[0]), float(parts[1])))\n",
    "    print('Points parsed!')\n",
    "    \n",
    "    # calculate distance matrix\n",
    "    d_m = [ [length(q,p) for q in points] for p in points]\n",
    "    print('Distance matrix ready!')\n",
    "    \n",
    "    # declare MIP model\n",
    "    m = Model(solver_name='GRB')\n",
    "    print('-Model instatiated!',datetime.datetime.now())\n",
    "    \n",
    "    # states search emphasis\n",
    "    #     - '0' (default) balanced approach\n",
    "    #     - '1' (feasibility) aggressively searches for feasible solutions\n",
    "    #     - '2' (optimality) explores search space to tighten dual gap\n",
    "    m.emphasis = 2\n",
    "    \n",
    "    # whenever the distance of the lower and upper bounds is less or \n",
    "    # equal max_gap*100%, the search can be finished\n",
    "    m.max_gap = 0.05\n",
    "    \n",
    "    # specifies number of used threads\n",
    "    # 0 uses solver default configuration, \n",
    "    # -1 uses the number of available processing cores \n",
    "    # ≥1 uses the specified number of threads. \n",
    "    # An increased number of threads may improve the solution time but also increases \n",
    "    # the memory consumption. Each thread needs to store a different model instance!\n",
    "    m.threads = -1\n",
    "    \n",
    "    \n",
    "    # controls the generation of cutting planes\n",
    "    # cutting planes usually improve the LP relaxation bound but also make the solution time of the LP relaxation larger\n",
    "    # -1 means automatic\n",
    "    #  0 disables completely\n",
    "    #  1 (default) generates cutting planes in a moderate way\n",
    "    #  2 generates cutting planes aggressively\n",
    "    #  3 generates even more cutting planes\n",
    "    m.cuts=3\n",
    "    \n",
    "    m.preprocess=1\n",
    "    m.pump_passes=10\n",
    "    m.sol_pool_size=1\n",
    "    \n",
    "    nodes = set(range(nodeCount))\n",
    "    \n",
    "    # instantiate \"entering and leaving\" variables\n",
    "    x = [ [m.add_var(name=\"x{}_{}\".format(p,q),var_type='B') for q in nodes] for p in nodes ] \n",
    "    # instantiate subtour elimination variables \n",
    "    y = [ m.add_var(name=\"y{}\".format(i)) for i in nodes ]\n",
    "    print('-Variables instantiated',datetime.datetime.now())\n",
    "    \n",
    "    # declare objective function\n",
    "    m.objective = minimize( xsum( d_m[i][j]*x[i][j] for i in nodes for j in nodes) )\n",
    "    \n",
    "    print('-Objective declared!',datetime.datetime.now())\n",
    "    \n",
    "    # declare constraints\n",
    "    # leave each city only once\n",
    "    for i in tqdm(nodes):\n",
    "        m.add_constr( xsum(x[i][j] for j in nodes - {i}) == 1 )\n",
    "\n",
    "    # enter each city only once\n",
    "    for i in tqdm(nodes):\n",
    "        m.add_constr( xsum(x[j][i] for j in nodes - {i}) == 1 )\n",
    "    \n",
    "    # subtour elimination constraints\n",
    "    for (i, j) in tqdm(product(nodes - {0}, nodes - {0})):\n",
    "        if i != j:\n",
    "            m.add_constr( y[i] - (nodeCount+1)*x[i][j] >= y[j]-nodeCount )\n",
    "            \n",
    "    print('-Constraints declared!',datetime.datetime.now())\n",
    "    \n",
    "    #Maximum time in seconds that the search can go on if a feasible solution \n",
    "    #is available and it is not being improved\n",
    "    mssi = 1000 #default = inf\n",
    "    # specifies maximum number of nodes to be explored in the search tree (default = inf)\n",
    "    mn = 10000 #default = 1073741824\n",
    "    # optimize model m within a processing time limit of 'ms' seconds\n",
    "    ms = 3000 #default = inf\n",
    "    \n",
    "    # executes the optimization\n",
    "    print('-Optimizer start.',datetime.datetime.now())\n",
    "    #status = m.optimize(max_seconds = ms,max_seconds_same_incumbent = mssi,max_nodes = mn)\n",
    "    status = m.optimize(max_seconds = ms , max_seconds_same_incumbent = mssi)\n",
    "\n",
    "    print('Opt. Status:',status)\n",
    "    print('MIP Sol. Obj.:',m.objective_value)\n",
    "    print('Dual Bound:',m.objective_bound)\n",
    "    print('Dual gap:',m.gap)\n",
    "    \n",
    "    sol= [0]\n",
    "    c_node=0\n",
    "    for j in range(nodeCount-1):\n",
    "        for i in range(nodeCount):\n",
    "            if round(m.var_by_name(\"x{}_{}\".format(c_node,i)).x) != 0:\n",
    "                sol.append(i)\n",
    "                c_node=i\n",
    "                break\n",
    "    print(sol)\n",
    "    \n",
    "    \n",
    "    sol_plot(sol,points)\n",
    "    obj=m.objective_value\n",
    "    \n",
    "    # prepare the solution in the specified output format\n",
    "    if status == OptimizationStatus.OPTIMAL:\n",
    "        output_data = '%.2f' % obj + ' ' + str(1) + '\\n'\n",
    "        output_data += ' '.join(map(str, sol))\n",
    "    elif status == OptimizationStatus.FEASIBLE:\n",
    "        output_data = '%.2f' % obj + ' ' + str(0) + '\\n'\n",
    "        output_data += ' '.join(map(str, sol))\n",
    "\n",
    "    return output_data"
   ]
  },
  {
   "cell_type": "code",
   "execution_count": null,
   "metadata": {
    "ExecuteTime": {
     "start_time": "2020-08-07T18:52:53.302Z"
    }
   },
   "outputs": [
    {
     "name": "stderr",
     "output_type": "stream",
     "text": [
      "gurobi version 9.0 found\n"
     ]
    },
    {
     "name": "stdout",
     "output_type": "stream",
     "text": [
      "Points parsed!\n",
      "Distance matrix ready!\n",
      "-Model instatiated! 2020-08-07 15:52:54.006991\n",
      "-Variables instantiated 2020-08-07 15:52:54.251167\n",
      "-Objective declared! 2020-08-07 15:52:54.520376\n"
     ]
    },
    {
     "data": {
      "application/vnd.jupyter.widget-view+json": {
       "model_id": "157b126fc9074e1da2bde204eb512eb2",
       "version_major": 2,
       "version_minor": 0
      },
      "text/plain": [
       "HBox(children=(FloatProgress(value=0.0, max=200.0), HTML(value='')))"
      ]
     },
     "metadata": {},
     "output_type": "display_data"
    },
    {
     "name": "stdout",
     "output_type": "stream",
     "text": [
      "\n"
     ]
    },
    {
     "data": {
      "application/vnd.jupyter.widget-view+json": {
       "model_id": "e047669151094401a2b1c6c0dae0c709",
       "version_major": 2,
       "version_minor": 0
      },
      "text/plain": [
       "HBox(children=(FloatProgress(value=0.0, max=200.0), HTML(value='')))"
      ]
     },
     "metadata": {},
     "output_type": "display_data"
    },
    {
     "name": "stdout",
     "output_type": "stream",
     "text": [
      "\n"
     ]
    },
    {
     "data": {
      "application/vnd.jupyter.widget-view+json": {
       "model_id": "36f14b7beca1460bac6f9ae00e094eba",
       "version_major": 2,
       "version_minor": 0
      },
      "text/plain": [
       "HBox(children=(FloatProgress(value=1.0, bar_style='info', max=1.0), HTML(value='')))"
      ]
     },
     "metadata": {},
     "output_type": "display_data"
    },
    {
     "name": "stdout",
     "output_type": "stream",
     "text": [
      "\n",
      "-Constraints declared! 2020-08-07 15:52:56.139507\n",
      "-Optimizer start. 2020-08-07 15:52:56.139507\n"
     ]
    }
   ],
   "source": [
    "import os\n",
    "notebook_path = os.path.abspath(\"Notebook.ipynb\")\n",
    "data_path = os.path.join(os.path.dirname(notebook_path), \"data\\\\tsp_200_1\")\n",
    "\n",
    "if len(data_path) > 1:\n",
    "    file_location = data_path.strip()\n",
    "    with open(file_location, 'r') as input_data_file:\n",
    "        input_data = input_data_file.read()\n",
    "        print(tsp_mip_solver(input_data))\n"
   ]
  },
  {
   "cell_type": "code",
   "execution_count": null,
   "metadata": {},
   "outputs": [],
   "source": []
  }
 ],
 "metadata": {
  "kernelspec": {
   "display_name": "Python 3",
   "language": "python",
   "name": "python3"
  },
  "language_info": {
   "codemirror_mode": {
    "name": "ipython",
    "version": 3
   },
   "file_extension": ".py",
   "mimetype": "text/x-python",
   "name": "python",
   "nbconvert_exporter": "python",
   "pygments_lexer": "ipython3",
   "version": "3.6.7"
  }
 },
 "nbformat": 4,
 "nbformat_minor": 4
}
