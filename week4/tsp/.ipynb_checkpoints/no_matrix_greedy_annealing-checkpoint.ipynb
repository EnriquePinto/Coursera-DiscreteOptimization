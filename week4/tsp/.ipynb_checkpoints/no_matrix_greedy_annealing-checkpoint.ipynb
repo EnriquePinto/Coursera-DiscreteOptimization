{
 "cells": [
  {
   "cell_type": "code",
   "execution_count": 1,
   "metadata": {
    "ExecuteTime": {
     "end_time": "2020-07-17T17:01:36.657636Z",
     "start_time": "2020-07-17T17:01:35.957139Z"
    }
   },
   "outputs": [],
   "source": [
    "#!/usr/bin/python\n",
    "# -*- coding: utf-8 -*-\n",
    "import sys\n",
    "import math\n",
    "from collections import namedtuple\n",
    "import matplotlib.pyplot as plt\n",
    "import random\n",
    "from tqdm.notebook import tqdm\n",
    "\n",
    "plt.rcParams['figure.figsize'] = [18, 13]"
   ]
  },
  {
   "cell_type": "code",
   "execution_count": 30,
   "metadata": {
    "ExecuteTime": {
     "end_time": "2020-07-17T17:38:45.585687Z",
     "start_time": "2020-07-17T17:38:44.716070Z"
    }
   },
   "outputs": [],
   "source": [
    "Point = namedtuple(\"Point\", ['x', 'y'])\n",
    "\n",
    "def length(point1, point2):\n",
    "    return math.sqrt((point1.x - point2.x)**2 + (point1.y - point2.y)**2)\n",
    "\n",
    "def objec(solution,points):\n",
    "    nodeCount=len(points)\n",
    "    obj = length(points[solution[-1]], points[solution[0]])\n",
    "    for index in range(0, nodeCount-1):\n",
    "        obj += length(points[solution[index]], points[solution[index+1]])\n",
    "    return obj\n",
    "\n",
    "def greedy_solve(points,s_node,k_nn):\n",
    "    nodeCount=len(points)\n",
    "    # visit the unvisited node that is closest to current node\n",
    "    vis_list=[]\n",
    "    # starts on random node\n",
    "    #c_node=random.randint(0,nodeCount-1)\n",
    "    c_node=s_node\n",
    "    vis_list.append(c_node)\n",
    "    for i in tqdm(range(nodeCount-1)):\n",
    "        #checks available nodes\n",
    "        av_nodes = [n for n in list(range(0,nodeCount)) if n not in vis_list]\n",
    "        # first choose k_nn and check availability\n",
    "        found=0\n",
    "        # go through k_nn starting closest to c_node and check if available\n",
    "        for i in k_nn[c_node]:\n",
    "            if i in av_nodes:\n",
    "                found=1\n",
    "                next_node=i\n",
    "                break\n",
    "            else:\n",
    "                next_node = min(av_nodes,key=lambda x:length(points[c_node],points[x]))\n",
    "        # update current node        \n",
    "        c_node=next_node\n",
    "        vis_list.append(c_node) \n",
    "    solution = vis_list\n",
    "    return solution\n",
    "\n",
    "def sol_plot(solution,points):\n",
    "    nodeCount=len(points)\n",
    "    # plot the solution\n",
    "    j=0\n",
    "    for i in points:\n",
    "        plt.plot(i.x, i.y,'ko')\n",
    "        #plt.annotate(j,(i.x, i.y))\n",
    "        j=j+1\n",
    "    \n",
    "    for i in range(-1, nodeCount-1):\n",
    "        plt.plot((points[solution[i]].x, points[solution[i+1]].x),\n",
    "                 (points[solution[i]].y, points[solution[i+1]].y),'-')\n",
    "    \n",
    "def data_plot(points):\n",
    "    nodeCount=len(points)\n",
    "    # plot the solution\n",
    "    j=0\n",
    "    for i in points:\n",
    "        plt.plot(i.x, i.y,'rx')\n",
    "        #plt.annotate(j,(i.x, i.y))\n",
    "        j=j+1\n",
    "\n",
    "def two_opt(sol, node1, node2):\n",
    "    # finds the position of desired nodes in solution list\n",
    "    idx1=sol.index(node1)\n",
    "    idx2=sol.index(node2)\n",
    "    # makes the reversal \n",
    "    if idx1<idx2:\n",
    "        sol1=sol[:idx1]\n",
    "        sol2=list(reversed(sol[idx1:idx2+1]))\n",
    "        sol3=sol[idx2+1:]\n",
    "    else:\n",
    "        sol1=sol[:idx2]\n",
    "        sol2=list(reversed(sol[idx2:idx1+1]))\n",
    "        sol3=sol[idx1+1:]\n",
    "    new_sol=sol1+sol2+sol3\n",
    "    return new_sol\n",
    "        \n",
    "def idx_two_opt(sol, idx1, idx2):\n",
    "    # makes the reversal \n",
    "    if idx1<idx2:\n",
    "        sol[idx1:idx2+1]=list(reversed(sol[idx1:idx2+1]))\n",
    "    else:\n",
    "        sol[idx2:idx1+1]=list(reversed(sol[idx2:idx1+1]))\n",
    "\n",
    "    return sol\n",
    "\n",
    "\n",
    "def compute_k_neighbors(k,points):\n",
    "    nodeCount=len(points)\n",
    "    k_nn=[]\n",
    "    if(k>nodeCount):\n",
    "        k=nodeCount\n",
    "    for i in tqdm(range(nodeCount)):\n",
    "        nn=sorted(range(nodeCount),key=lambda x:length(points[i],points[x]))\n",
    "        nn=nn[1:k+1]\n",
    "        k_nn.append(nn)\n",
    "    return k_nn\n",
    "\n",
    "def sim_anneal(s0,points,k_nn,T0=60,alpha=0.9995,maxit=30000, m_length=1, stop_thld=1000):\n",
    "    s=s0\n",
    "    T=T0\n",
    "    nodeCount=len(points)    \n",
    "    #calculate objective of solution\n",
    "    obj=objec(s,points)\n",
    "    \n",
    "    best_obj=obj\n",
    "    best_s=s\n",
    "    \n",
    "    a_prob_hist=[]\n",
    "    obj_hist=[]\n",
    "    T_hist=[]\n",
    "    \n",
    "    stop_clk=0\n",
    "    \n",
    "    for i in range(maxit):       \n",
    "        obj_hist.append(obj)\n",
    "        T_hist.append(T)       \n",
    "        p_s=s\n",
    "        \n",
    "        # 2OPT NEIGHBORHOOD STEP\n",
    "        # get two random nodes \n",
    "        n1=random.randrange(nodeCount)\n",
    "        n2=random.choice(k_nn[n1])\n",
    "\n",
    "        p_s=two_opt(p_s,n1,n2) \n",
    "        p_obj=objec(p_s,points)\n",
    "        # calculates acceptance probability\n",
    "        if p_obj<obj:\n",
    "            a_prob=1\n",
    "        else:\n",
    "            a_prob=math.exp(-(p_obj-obj)/T)\n",
    "        a_prob_hist.append(a_prob)\n",
    "        # ROLL THE DICE!\n",
    "        if a_prob>random.uniform(0, 1):\n",
    "            s=p_s\n",
    "            obj=p_obj\n",
    "            \n",
    "        # saves best solution    \n",
    "        if obj<best_obj:\n",
    "            best_s=s\n",
    "            best_obj=obj\n",
    "            stop_clk=0\n",
    "        else:\n",
    "            stop_clk=stop_clk+1\n",
    "            \n",
    "        # stop if no improvement is made \n",
    "        if stop_clk>=stop_thld:\n",
    "            break\n",
    "        \n",
    "        T=T*alpha\n",
    "    return s,best_s, a_prob_hist, obj_hist, T_hist\n",
    "\n",
    "def solve_it(input_data,greedy=False,k=100):\n",
    "    # parse the input\n",
    "    lines = input_data.split('\\n')\n",
    "\n",
    "    nodeCount = int(lines[0])\n",
    "\n",
    "    points = []\n",
    "    for i in range(1, nodeCount+1):\n",
    "        line = lines[i]\n",
    "        parts = line.split()\n",
    "        points.append(Point(float(parts[0]), float(parts[1])))\n",
    "    print('Points Parsed!')\n",
    "    \n",
    "    #compute k nearest neighbors\n",
    "    k_nn=compute_k_neighbors(k,points)\n",
    "    print('Neighbor matrix ready!')\n",
    "    \n",
    "    if greedy==True:\n",
    "        # gets random greedy solution\n",
    "        starting_node=random.randint(0,nodeCount)\n",
    "        solution=greedy_solve(points,starting_node,k_nn)\n",
    "        print('Greedy Ready!')\n",
    "        s0=solution      \n",
    "    else:\n",
    "        s0=random.sample(range(nodeCount), nodeCount)\n",
    "\n",
    "    greedy_sol=s0\n",
    "    # find an improved solution with simulated annealing 2-opt neighborhood\n",
    "\n",
    "    \n",
    "    # NOTE1: Relate temperature with edge_length (Uncertain, perhaps unnecessary)\n",
    "    # NOTE2: Try doing grid searched annealing runs and get the best (TOO EXPENSIVE ON THE FLY)\n",
    "    # NOTE3: Include swaps in the neighborhood (WORSE THAN 2OPT)\n",
    "    # NOTE4: Keep track of best solution and break if it doesn't improve for a while,\n",
    "    #        afterwards do new SA run with different parameters. (May be surpassed by good sched.)\n",
    "    # NOTE5: Use cached k-nearest neighbors instead of full nearest neighbors\n",
    "    # NOTE6: Implement 2-OPT Heuristic and check runtime (BAD)\n",
    "    # NOTE7: Keep list of k-nearest neighbors, in SA: 1.select random node, 2. select random\n",
    "    #        node from nearest neighbor list, 3. perform 2opt swap and submit    \n",
    "    \n",
    "\n",
    "    a_prob_hist=[]\n",
    "    obj_hist=[]\n",
    "    T_hist=[]\n",
    "    #T0=100\n",
    "    best_ever_s=s0\n",
    "    s=s0\n",
    "    T0=max([objec(s0,points)/nodeCount, 50])\n",
    "    \n",
    "    obj_clk=0\n",
    "    best_thld=2\n",
    "    \n",
    "    if nodeCount<900:\n",
    "        if nodeCount<300:\n",
    "            stop_thld=20000\n",
    "            sa_maxit=10\n",
    "            best_thld=4\n",
    "        else:\n",
    "            stop_thld=15000\n",
    "            sa_maxit=60\n",
    "            best_thld=5\n",
    "    else:\n",
    "        stop_thld=20000\n",
    "        sa_maxit=10\n",
    "        best_thld=2\n",
    "        \n",
    "    \n",
    "    for i in tqdm(range(sa_maxit)):\n",
    "        #print('T0:',T0,' Current Best:',objec(best_ever_s,points),'Starting State Obj:',objec(s,points))\n",
    "        print('T0: %.2f | Best: %.2f | Starting obj: %.2f | it %d/%d' \n",
    "              %(T0, objec(best_ever_s,points), objec(s,points), i+1, sa_maxit ) )\n",
    "        s, best_s, a_p_hist, o_hist, T1_hist = sim_anneal(s,points,k_nn,T0,alpha=0.999,\n",
    "                                                  maxit=100000,stop_thld=stop_thld)\n",
    "\n",
    "        \n",
    "        a_prob_hist.extend(a_p_hist)\n",
    "        obj_hist.extend(o_hist)\n",
    "        T_hist.extend(T1_hist)        \n",
    "        #T0=objec(s,points)/nodeCount\n",
    "        T0=T0*0.8\n",
    "        \n",
    "        if objec(best_s,points)<objec(best_ever_s,points):\n",
    "            best_ever_s=best_s\n",
    "            obj_clk=0\n",
    "        else:\n",
    "            obj_clk=obj_clk+1\n",
    "\n",
    "        if obj_clk>best_thld:\n",
    "            s=best_ever_s\n",
    "            obj_clk=0\n",
    "            T0=max([objec(s0,points)/nodeCount, 50])\n",
    "            print('>Node Reset<')\n",
    "    \n",
    "    \n",
    "    print('Start Obj:',objec(s0,points))\n",
    "    print('End Obj:',objec(best_ever_s,points))\n",
    "    print('Delta Obj:',objec(s0,points)-objec(best_ever_s,points))\n",
    "    \n",
    "    # plot solution\n",
    "    plt.subplot(2,2,1)\n",
    "    plt.semilogy(T_hist)\n",
    "    plt.grid(1)\n",
    "    \n",
    "    #sol_plot(greedy_sol,points)\n",
    "    #start_list=[points[starting_node]]\n",
    "    #make new points list\n",
    "    #for i in k_nn[starting_node]:\n",
    "    #    start_list.append(points[i])\n",
    "    #data_plot(start_list)\n",
    "    \n",
    "    plt.subplot(2,2,2)\n",
    "    sol_plot(best_ever_s,points)\n",
    "    \n",
    "    plt.subplot(2,2,3)\n",
    "    plt.plot(a_prob_hist,'.')\n",
    "    \n",
    "    plt.subplot(2,2,4)\n",
    "    plt.plot(obj_hist)\n",
    "    plt.grid(1)\n",
    "    \n",
    "    obj=objec(best_ever_s,points)\n",
    "    solution=best_ever_s\n",
    "    # prepare the solution in the specified output format\n",
    "    output_data = '%.2f' % obj + ' ' + str(0) + '\\n'\n",
    "    output_data += ' '.join(map(str, solution))\n",
    "\n",
    "    return output_data"
   ]
  },
  {
   "cell_type": "code",
   "execution_count": null,
   "metadata": {
    "ExecuteTime": {
     "start_time": "2020-07-17T17:38:45.052Z"
    }
   },
   "outputs": [
    {
     "name": "stdout",
     "output_type": "stream",
     "text": [
      "Points Parsed!\n"
     ]
    },
    {
     "data": {
      "application/vnd.jupyter.widget-view+json": {
       "model_id": "841d357c3e3f42eca81efe56bb6970b2",
       "version_major": 2,
       "version_minor": 0
      },
      "text/plain": [
       "HBox(children=(FloatProgress(value=0.0, max=51.0), HTML(value='')))"
      ]
     },
     "metadata": {},
     "output_type": "display_data"
    },
    {
     "name": "stdout",
     "output_type": "stream",
     "text": [
      "\n",
      "Neighbor matrix ready!\n"
     ]
    },
    {
     "data": {
      "application/vnd.jupyter.widget-view+json": {
       "model_id": "4702fb2812574b6eb75b084eb946f593",
       "version_major": 2,
       "version_minor": 0
      },
      "text/plain": [
       "HBox(children=(FloatProgress(value=0.0, max=50.0), HTML(value='')))"
      ]
     },
     "metadata": {},
     "output_type": "display_data"
    },
    {
     "name": "stdout",
     "output_type": "stream",
     "text": [
      "\n",
      "Greedy Ready!\n"
     ]
    },
    {
     "data": {
      "application/vnd.jupyter.widget-view+json": {
       "model_id": "92b7880ef6574ccebad9f8aca213b87a",
       "version_major": 2,
       "version_minor": 0
      },
      "text/plain": [
       "HBox(children=(FloatProgress(value=0.0, max=10.0), HTML(value='')))"
      ]
     },
     "metadata": {},
     "output_type": "display_data"
    },
    {
     "name": "stdout",
     "output_type": "stream",
     "text": [
      "T0: 50.00 | Best: 551.52 | Starting obj: 551.52 | it 1/10\n"
     ]
    },
    {
     "data": {
      "application/vnd.jupyter.widget-view+json": {
       "model_id": "c9522ea1e8784a7d9423978417a64b83",
       "version_major": 2,
       "version_minor": 0
      },
      "text/plain": [
       "HBox(children=(FloatProgress(value=0.0), HTML(value='')))"
      ]
     },
     "metadata": {},
     "output_type": "display_data"
    },
    {
     "name": "stdout",
     "output_type": "stream",
     "text": [
      "\n",
      "T0: 40.00 | Best: 483.06 | Starting obj: 575.58 | it 2/10\n"
     ]
    },
    {
     "data": {
      "application/vnd.jupyter.widget-view+json": {
       "model_id": "24b6d35e59db4d2fbcf382beff516c22",
       "version_major": 2,
       "version_minor": 0
      },
      "text/plain": [
       "HBox(children=(FloatProgress(value=0.0), HTML(value='')))"
      ]
     },
     "metadata": {},
     "output_type": "display_data"
    }
   ],
   "source": [
    "import os\n",
    "notebook_path = os.path.abspath(\"Notebook.ipynb\")\n",
    "data_path = os.path.join(os.path.dirname(notebook_path), \"data\\\\tsp_51_1\")\n",
    "\n",
    "if len(data_path) > 1:\n",
    "    file_location = data_path.strip()\n",
    "    with open(file_location, 'r') as input_data_file:\n",
    "        input_data = input_data_file.read()\n",
    "        print(solve_it(input_data,greedy=True,k=1000))"
   ]
  },
  {
   "cell_type": "code",
   "execution_count": 13,
   "metadata": {
    "ExecuteTime": {
     "end_time": "2020-07-17T17:26:22.922893Z",
     "start_time": "2020-07-17T17:26:22.916888Z"
    }
   },
   "outputs": [
    {
     "name": "stdout",
     "output_type": "stream",
     "text": [
      "[6, 7, 1, 2, 3, 4, 5]\n"
     ]
    }
   ],
   "source": [
    "test=[1,2,3,4,5,6,7]\n",
    "out=three_opt_mov_rand(test,1,5,7)\n",
    "print(out)"
   ]
  },
  {
   "cell_type": "code",
   "execution_count": null,
   "metadata": {},
   "outputs": [],
   "source": []
  }
 ],
 "metadata": {
  "kernelspec": {
   "display_name": "Python 3",
   "language": "python",
   "name": "python3"
  },
  "language_info": {
   "codemirror_mode": {
    "name": "ipython",
    "version": 3
   },
   "file_extension": ".py",
   "mimetype": "text/x-python",
   "name": "python",
   "nbconvert_exporter": "python",
   "pygments_lexer": "ipython3",
   "version": "3.6.7"
  }
 },
 "nbformat": 4,
 "nbformat_minor": 4
}
