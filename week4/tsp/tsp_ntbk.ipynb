{
 "cells": [
  {
   "cell_type": "code",
   "execution_count": 3,
   "metadata": {
    "ExecuteTime": {
     "end_time": "2020-08-12T00:02:32.467171Z",
     "start_time": "2020-08-12T00:02:31.796695Z"
    }
   },
   "outputs": [],
   "source": [
    "#!/usr/bin/python\n",
    "# -*- coding: utf-8 -*-\n",
    "import sys\n",
    "import math\n",
    "from collections import namedtuple\n",
    "import matplotlib.pyplot as plt\n",
    "import random\n",
    "from tqdm.notebook import tqdm\n",
    "\n",
    "plt.rcParams['figure.figsize'] = [18, 13]"
   ]
  },
  {
   "cell_type": "code",
   "execution_count": 6,
   "metadata": {
    "ExecuteTime": {
     "end_time": "2020-08-12T00:03:29.069930Z",
     "start_time": "2020-08-12T00:03:28.962852Z"
    }
   },
   "outputs": [],
   "source": [
    "Point = namedtuple(\"Point\", ['x', 'y'])\n",
    "\n",
    "def length(point1, point2):\n",
    "    return math.sqrt((point1.x - point2.x)**2 + (point1.y - point2.y)**2)\n",
    "\n",
    "def objec(solution,points):\n",
    "    nodeCount=len(points)\n",
    "    obj = length(points[solution[-1]], points[solution[0]])\n",
    "    for index in range(0, nodeCount-1):\n",
    "        obj += length(points[solution[index]], points[solution[index+1]])\n",
    "    return obj\n",
    "\n",
    "def greedy_solve(points,s_node,d_m):\n",
    "    nodeCount=len(points)\n",
    "    # visit the unvisited node that is closest to current node\n",
    "    vis_list=[]\n",
    "    # starts on random node\n",
    "    #c_node=random.randint(0,nodeCount-1)\n",
    "    c_node=s_node\n",
    "    vis_list.append(c_node)\n",
    "    for i in tqdm(range(nodeCount-1)):     \n",
    "        #checks available nodes\n",
    "        av_nodes = [n for n in list(range(0,nodeCount)) if n not in vis_list]\n",
    "        next_node = closest_av_node(c_node,av_nodes,d_m)\n",
    "        c_node=next_node\n",
    "        vis_list.append(c_node) \n",
    "    solution = vis_list\n",
    "    return solution\n",
    "\n",
    "def closest_av_node(c_node,av_nodes,d_m):\n",
    "    d_list=d_m[c_node]\n",
    "    clos_dist=d_list[av_nodes[0]]\n",
    "    clos_n=av_nodes[0]\n",
    "    for n in av_nodes:\n",
    "        if d_list[n]<clos_dist and d_list[n]!=0:\n",
    "            clos_n=n\n",
    "            clos_dist=d_list[n]\n",
    "    return clos_n\n",
    "\n",
    "def sol_plot(solution,points):\n",
    "    nodeCount=len(points)\n",
    "    # plot the solution\n",
    "    j=0\n",
    "    for i in points:\n",
    "        plt.plot(i.x, i.y,'ko')\n",
    "        #plt.annotate(j,(i.x, i.y))\n",
    "        j=j+1\n",
    "    \n",
    "    for i in range(-1, nodeCount-1):\n",
    "        plt.plot((points[solution[i]].x, points[solution[i+1]].x),\n",
    "                 (points[solution[i]].y, points[solution[i+1]].y),'-')\n",
    "    \n",
    "def data_plot(points):\n",
    "    nodeCount=len(points)\n",
    "    # plot the solution\n",
    "    j=0\n",
    "    for i in points:\n",
    "        plt.plot(i.x, i.y,'ko')\n",
    "        #plt.annotate(j,(i.x, i.y))\n",
    "        j=j+1\n",
    "\n",
    "def two_opt(sol, node1, node2):\n",
    "    # finds the position of desired nodes in solution list\n",
    "    idx1=sol.index(node1)\n",
    "    idx2=sol.index(node2)\n",
    "    # makes the reversal \n",
    "    if idx1<idx2:\n",
    "        sol1=sol[:idx1]\n",
    "        sol2=list(reversed(sol[idx1:idx2+1]))\n",
    "        sol3=sol[idx2+1:]\n",
    "    else:\n",
    "        sol1=sol[:idx2]\n",
    "        sol2=list(reversed(sol[idx2:idx1+1]))\n",
    "        sol3=sol[idx1+1:]\n",
    "    new_sol=sol1+sol2+sol3\n",
    "    return new_sol\n",
    "\n",
    "def idx_two_opt(sol, idx1, idx2):\n",
    "    # makes the reversal \n",
    "    if idx1<idx2:\n",
    "        sol1=sol[:idx1]\n",
    "        sol2=list(reversed(sol[idx1:idx2+1]))\n",
    "        sol3=sol[idx2+1:]\n",
    "    else:\n",
    "        sol1=sol[:idx2]\n",
    "        sol2=list(reversed(sol[idx2:idx1+1]))\n",
    "        sol3=sol[idx1+1:]\n",
    "    new_sol=sol1+sol2+sol3\n",
    "    return new_sol\n",
    "\n",
    "def swap(sol, idx1, idx2):\n",
    "    out_sol=sol\n",
    "    val1=sol[idx1]\n",
    "    val2=sol[idx2]\n",
    "    out_sol[idx1]=val2\n",
    "    out_sol[idx2]=val1\n",
    "    return out_sol\n",
    "\n",
    "def two_opt_search(sol,points):\n",
    "    nodeCount=len(points)\n",
    "    best_sol=sol\n",
    "    best_obj=objec(sol,points)\n",
    "    for i in tqdm(range(nodeCount)):\n",
    "            for j in range(nodeCount):\n",
    "                p_sol=idx_two_opt(best_sol,i,j)\n",
    "                p_obj=objec(p_sol,points)\n",
    "                if p_obj<best_obj:\n",
    "                    best_sol=p_sol\n",
    "                    best_obj=p_obj\n",
    "    return best_sol\n",
    "    \n",
    "                \n",
    "\n",
    "def sim_anneal(s0,points,T0=60,alpha=0.9995,maxit=30000, m_length=1, stop_thld=1000):\n",
    "    s=s0\n",
    "    T=T0\n",
    "    nodeCount=len(points)    \n",
    "    #calculate objective of solution\n",
    "    obj=objec(s,points)\n",
    "    \n",
    "    best_obj=obj\n",
    "    best_s=s\n",
    "    \n",
    "    a_prob_hist=[]\n",
    "    obj_hist=[]\n",
    "    T_hist=[]\n",
    "    \n",
    "    stop_clk=0\n",
    "    \n",
    "    for i in tqdm(range(maxit)):       \n",
    "        obj_hist.append(obj)\n",
    "        T_hist.append(T)       \n",
    "        p_s=s\n",
    "        \n",
    "        # 2OPT NEIGHBORHOOD STEP\n",
    "        # get two random nodes \n",
    "        n1,n2=random.sample(range(nodeCount), 2)\n",
    "        p_s=idx_two_opt(p_s,n1,n2) \n",
    "        p_obj=objec(p_s,points)\n",
    "        # calculates acceptance probability\n",
    "        if p_obj<obj:\n",
    "            a_prob=1\n",
    "        else:\n",
    "            a_prob=math.exp(-(p_obj-obj)/T)\n",
    "        a_prob_hist.append(a_prob)\n",
    "        # ROLL THE DICE!\n",
    "        if a_prob>random.uniform(0, 1):\n",
    "            s=p_s\n",
    "            #alpha=p_obj/obj\n",
    "            obj=p_obj\n",
    "        # saves best solution    \n",
    "        if obj<best_obj:\n",
    "            best_s=s\n",
    "            best_obj=obj\n",
    "            stop_clk=0\n",
    "        else:\n",
    "            stop_clk=stop_clk+1\n",
    "            \n",
    "        # stop if no improvement is made \n",
    "        if stop_clk>=stop_thld:\n",
    "            break\n",
    "        \n",
    "        T=T*alpha\n",
    "    return best_s, a_prob_hist, obj_hist, T_hist\n",
    "\n",
    "def solve_it(input_data,greedy=False):\n",
    "    # parse the input\n",
    "    lines = input_data.split('\\n')\n",
    "\n",
    "    nodeCount = int(lines[0])\n",
    "\n",
    "    points = []\n",
    "    for i in range(1, nodeCount+1):\n",
    "        line = lines[i]\n",
    "        parts = line.split()\n",
    "        points.append(Point(float(parts[0]), float(parts[1])))\n",
    "    print('Points Parsed!')\n",
    "    \n",
    "    if greedy==True:\n",
    "        # gets distance matrix\n",
    "        d_m=[]\n",
    "        for i in tqdm(range(nodeCount)):\n",
    "            d_i=[]\n",
    "            for j in range(nodeCount):\n",
    "                d_i.append(length(points[i],points[j]))\n",
    "            d_m.append(d_i)  \n",
    "        \n",
    "        print('Distance Matrix Ready')\n",
    "    \n",
    "        # gets random greedy solution\n",
    "        solution=greedy_solve(points,random.randint(0,nodeCount),d_m)\n",
    "        print('Greedy Ready!')\n",
    "        s0=solution\n",
    "        \n",
    "    else:\n",
    "        s0=random.sample(range(nodeCount), nodeCount)\n",
    "\n",
    "    \n",
    "    # find an improved solution with simulated annealing 2-opt neighborhood\n",
    "\n",
    "    \n",
    "    # NOTE1: Relate temperature with edge_length (Uncertain, perhaps unnecessary)\n",
    "    # NOTE2: Try doing grid searched annealing runs and get the best (TOO EXPENSIVE ON THE FLY)\n",
    "    # NOTE3: Include swaps in the neighborhood (WORSE THAN 2OPT)\n",
    "    # NOTE4: Keep track of best solution and break if it doesn't improve for a while,\n",
    "    #        afterwards do new SA run with different parameters. (May be surpassed by good sched.)\n",
    "    # NOTE5: Use cached k-nearest neighbors instead of full nearest neighbors\n",
    "    # NOTE6: Implement 2-OPT Heuristic and check runtime (BAD)\n",
    "    # NOTE7: Keep list of k-nearest neighbors, in SA: 1.select random node, 2. select random\n",
    "    #        node from nearest neighbor list, 3. perform 2opt swap    \n",
    "    \n",
    "    sa_maxit=15\n",
    "    a_prob_hist=[]\n",
    "    obj_hist=[]\n",
    "    T_hist=[]\n",
    "    #T0=100\n",
    "    best_s=s0\n",
    "    T0=objec(best_s,points)/nodeCount\n",
    "    print('T0:',T0)\n",
    "    for i in tqdm(range(sa_maxit)):\n",
    "        s, a_p_hist, o_hist, T1_hist = sim_anneal(best_s,points,T0,alpha=0.999,\n",
    "                                                  maxit=80000,stop_thld=30000)\n",
    "        a_prob_hist.extend(a_p_hist)\n",
    "        obj_hist.extend(o_hist)\n",
    "        T_hist.extend(T1_hist)\n",
    "        \n",
    "        T0=objec(best_s,points)/nodeCount\n",
    "        print('T0:',T0)\n",
    "        \n",
    "        #T0=T0*0.8\n",
    "        if objec(s,points)<objec(best_s,points):\n",
    "            best_s=s\n",
    "\n",
    "    print('Start Obj:',objec(s0,points))\n",
    "    print('End Obj:',objec(best_s,points))\n",
    "    print('Delta Obj:',objec(s0,points)-objec(best_s,points))\n",
    "    \n",
    "    # run a two opt search it\n",
    "    #twoopt_sa_sol=two_opt_search(best_s,points)\n",
    "    #twoopt_start_sol=two_opt_search(s0,points)\n",
    "    #print('2opt sa obj:',objec(twoopt_sa_sol,points))\n",
    "    #print('2opt start obj:',objec(twoopt_start_sol,points))\n",
    "    \n",
    "    # plot solution\n",
    "    plt.subplot(2,2,1)\n",
    "    plt.semilogy(T_hist)\n",
    "    plt.grid(1)\n",
    "    \n",
    "    plt.subplot(2,2,2)\n",
    "    sol_plot(best_s,points)\n",
    "    \n",
    "    plt.subplot(2,2,3)\n",
    "    plt.plot(a_prob_hist,'.')\n",
    "    \n",
    "    plt.subplot(2,2,4)\n",
    "    plt.plot(obj_hist)\n",
    "    plt.grid(1)\n",
    "    \n",
    "    obj=objec(best_s,points)\n",
    "    solution=best_s\n",
    "    # prepare the solution in the specified output format\n",
    "    output_data = '%.2f' % obj + ' ' + str(0) + '\\n'\n",
    "    output_data += ' '.join(map(str, solution))\n",
    "\n",
    "    return output_data"
   ]
  },
  {
   "cell_type": "code",
   "execution_count": null,
   "metadata": {
    "ExecuteTime": {
     "start_time": "2020-08-12T00:03:29.225Z"
    }
   },
   "outputs": [
    {
     "name": "stdout",
     "output_type": "stream",
     "text": [
      "Points Parsed!\n"
     ]
    },
    {
     "data": {
      "application/vnd.jupyter.widget-view+json": {
       "model_id": "e3b24107d9ea4b129fd747cf2b1b98de",
       "version_major": 2,
       "version_minor": 0
      },
      "text/plain": [
       "HBox(children=(FloatProgress(value=0.0, max=439.0), HTML(value='')))"
      ]
     },
     "metadata": {},
     "output_type": "display_data"
    },
    {
     "name": "stdout",
     "output_type": "stream",
     "text": [
      "\n",
      "Distance Matrix Ready\n"
     ]
    },
    {
     "data": {
      "application/vnd.jupyter.widget-view+json": {
       "model_id": "948e1a71386e4e59a2c4c2935810a753",
       "version_major": 2,
       "version_minor": 0
      },
      "text/plain": [
       "HBox(children=(FloatProgress(value=0.0, max=438.0), HTML(value='')))"
      ]
     },
     "metadata": {},
     "output_type": "display_data"
    },
    {
     "name": "stdout",
     "output_type": "stream",
     "text": [
      "\n",
      "Greedy Ready!\n",
      "T0: 291.8333059347358\n"
     ]
    },
    {
     "data": {
      "application/vnd.jupyter.widget-view+json": {
       "model_id": "d238582a91094a258efd77b74345cf59",
       "version_major": 2,
       "version_minor": 0
      },
      "text/plain": [
       "HBox(children=(FloatProgress(value=0.0, max=15.0), HTML(value='')))"
      ]
     },
     "metadata": {},
     "output_type": "display_data"
    },
    {
     "data": {
      "application/vnd.jupyter.widget-view+json": {
       "model_id": "c77b99593da54041a855b5149d1dcfce",
       "version_major": 2,
       "version_minor": 0
      },
      "text/plain": [
       "HBox(children=(FloatProgress(value=0.0, max=80000.0), HTML(value='')))"
      ]
     },
     "metadata": {},
     "output_type": "display_data"
    },
    {
     "name": "stdout",
     "output_type": "stream",
     "text": [
      "\n",
      "T0: 291.8333059347358\n"
     ]
    },
    {
     "data": {
      "application/vnd.jupyter.widget-view+json": {
       "model_id": "f7da19fef6e2417b8bca99d56fbf0bc7",
       "version_major": 2,
       "version_minor": 0
      },
      "text/plain": [
       "HBox(children=(FloatProgress(value=0.0, max=80000.0), HTML(value='')))"
      ]
     },
     "metadata": {},
     "output_type": "display_data"
    },
    {
     "name": "stdout",
     "output_type": "stream",
     "text": [
      "\n",
      "T0: 283.75768562541685\n"
     ]
    },
    {
     "data": {
      "application/vnd.jupyter.widget-view+json": {
       "model_id": "11ca760e1d77494e9abfc0b64e99afe1",
       "version_major": 2,
       "version_minor": 0
      },
      "text/plain": [
       "HBox(children=(FloatProgress(value=0.0, max=80000.0), HTML(value='')))"
      ]
     },
     "metadata": {},
     "output_type": "display_data"
    }
   ],
   "source": [
    "import os\n",
    "notebook_path = os.path.abspath(\"Notebook.ipynb\")\n",
    "data_path = os.path.join(os.path.dirname(notebook_path), \"data\\\\tsp_439_1\")\n",
    "\n",
    "if len(data_path) > 1:\n",
    "    file_location = data_path.strip()\n",
    "    with open(file_location, 'r') as input_data_file:\n",
    "        input_data = input_data_file.read()\n",
    "        print(solve_it(input_data,greedy=True))\n"
   ]
  },
  {
   "cell_type": "code",
   "execution_count": null,
   "metadata": {},
   "outputs": [],
   "source": []
  }
 ],
 "metadata": {
  "kernelspec": {
   "display_name": "Python 3",
   "language": "python",
   "name": "python3"
  },
  "language_info": {
   "codemirror_mode": {
    "name": "ipython",
    "version": 3
   },
   "file_extension": ".py",
   "mimetype": "text/x-python",
   "name": "python",
   "nbconvert_exporter": "python",
   "pygments_lexer": "ipython3",
   "version": "3.6.7"
  }
 },
 "nbformat": 4,
 "nbformat_minor": 4
}
