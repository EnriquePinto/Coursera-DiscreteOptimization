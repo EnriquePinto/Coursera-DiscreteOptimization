{
 "cells": [
  {
   "cell_type": "code",
   "execution_count": 6,
   "metadata": {
    "ExecuteTime": {
     "end_time": "2020-08-12T00:21:04.800332Z",
     "start_time": "2020-08-12T00:21:04.794327Z"
    }
   },
   "outputs": [],
   "source": [
    "#!/usr/bin/python\n",
    "# -*- coding: utf-8 -*-\n",
    "import sys\n",
    "import math\n",
    "from typing import List, Tuple\n",
    "from collections import namedtuple\n",
    "import matplotlib.pyplot as plt\n",
    "import random\n",
    "from tqdm.notebook import tqdm\n",
    "from itertools import product\n",
    "from mip import *\n",
    "import datetime\n",
    "from random import shuffle\n",
    "import networkx as nx\n",
    "\n",
    "plt.rcParams['figure.figsize'] = [18, 13]"
   ]
  },
  {
   "cell_type": "code",
   "execution_count": 7,
   "metadata": {
    "ExecuteTime": {
     "end_time": "2020-08-12T00:21:05.527847Z",
     "start_time": "2020-08-12T00:21:05.423777Z"
    }
   },
   "outputs": [],
   "source": [
    "Point = namedtuple(\"Point\", ['x', 'y'])\n",
    "\n",
    "def length(point1, point2):\n",
    "    return math.sqrt((point1.x - point2.x)**2 + (point1.y - point2.y)**2)\n",
    "\n",
    "def shift(seq, n=0):\n",
    "    a = n % len(seq)\n",
    "    return seq[-a:] + seq[:-a]\n",
    "\n",
    "def sol_plot(solution,points):\n",
    "    nodeCount=len(points)\n",
    "    # plot the solution\n",
    "    j=0\n",
    "    for i in points:\n",
    "        plt.plot(i.x, i.y,'ko')\n",
    "        #plt.annotate(j,(i.x, i.y))\n",
    "        j=j+1\n",
    "    \n",
    "    for i in range(-1, nodeCount-1):\n",
    "        plt.plot((points[solution[i]].x, points[solution[i+1]].x),\n",
    "                 (points[solution[i]].y, points[solution[i+1]].y),'-')\n",
    "        \n",
    "def objec(solution,points,d_m):\n",
    "    nodeCount=len(points)\n",
    "    obj = d_m[solution[-1]][solution[0]]\n",
    "    for index in range(0, nodeCount-1):\n",
    "        obj += d_m[solution[index]][solution[index+1]]\n",
    "    return obj\n",
    "\n",
    "def idx_two_opt(sol, idx1, idx2):\n",
    "    # makes the reversal \n",
    "    if idx1<idx2:\n",
    "        sol1=sol[:idx1]\n",
    "        sol2=list(reversed(sol[idx1:idx2+1]))\n",
    "        sol3=sol[idx2+1:]\n",
    "    else:\n",
    "        sol1=sol[:idx2]\n",
    "        sol2=list(reversed(sol[idx2:idx1+1]))\n",
    "        sol3=sol[idx1+1:]\n",
    "    new_sol=sol1+sol2+sol3\n",
    "    return new_sol\n",
    "        \n",
    "def two_opt_search(sol,points,d_m):\n",
    "    nodeCount=len(points)\n",
    "    best_sol=sol\n",
    "    best_obj=objec(sol,points,d_m)\n",
    "    for i in tqdm(range(nodeCount)):\n",
    "            for j in range(nodeCount):\n",
    "                p_sol=idx_two_opt(best_sol,i,j)\n",
    "                p_obj=objec(p_sol,points,d_m)\n",
    "                if p_obj<best_obj:\n",
    "                    best_sol=p_sol\n",
    "                    best_obj=p_obj\n",
    "    return best_sol\n",
    "        \n",
    "def greedy_solve(points,s_node,k_nn):\n",
    "    nodeCount=len(points)\n",
    "    # visit the unvisited node that is closest to current node\n",
    "    vis_list=[]\n",
    "    # starts on random node\n",
    "    #c_node=random.randint(0,nodeCount-1)\n",
    "    c_node=s_node\n",
    "    vis_list.append(c_node)\n",
    "    for i in tqdm(range(nodeCount-1)):\n",
    "        #checks available nodes\n",
    "        av_nodes = [n for n in list(range(0,nodeCount)) if n not in vis_list]\n",
    "        # first choose k_nn and check availability\n",
    "        found=0\n",
    "        # go through k_nn starting closest to c_node and check if available\n",
    "        for i in k_nn[c_node]:\n",
    "            if i in av_nodes:\n",
    "                found=1\n",
    "                next_node=i\n",
    "                break\n",
    "            else:\n",
    "                next_node = min(av_nodes,key=lambda x:length(points[c_node],points[x]))\n",
    "        # update current node        \n",
    "        c_node=next_node\n",
    "        vis_list.append(c_node) \n",
    "    solution = vis_list\n",
    "    return solution\n",
    "\n",
    "        \n",
    "class SubTourCutGenerator(ConstrsGenerator):\n",
    "    \"\"\"Class to generate cutting planes for the TSP\"\"\"\n",
    "    def __init__(self, Fl: List[Tuple[int, int]], x_, V_):\n",
    "        self.F, self.x, self.V = Fl, x_, V_\n",
    "\n",
    "    def generate_constrs(self, model: Model, depth: int = 0, npass: int = 0):\n",
    "        xf, V_, cp, G = model.translate(self.x), self.V, CutPool(), nx.DiGraph()\n",
    "        for (u, v) in [(k, l) for (k, l) in product(V_, V_) if k != l and xf[k][l]]:\n",
    "            G.add_edge(u, v, capacity=xf[u][v].x)\n",
    "        for (u, v) in self.F:\n",
    "            val, (S, NS) = nx.minimum_cut(G, u, v)\n",
    "            if val <= 0.99:\n",
    "                aInS = [(xf[i][j], xf[i][j].x)\n",
    "                        for (i, j) in product(V_, V_) if i != j and xf[i][j] and i in S and j in S]\n",
    "                if sum(f for v, f in aInS) >= (len(S)-1)+1e-4:\n",
    "                    cut = xsum(1.0*v for v, fm in aInS) <= len(S)-1\n",
    "                    cp.add(cut)\n",
    "                    if len(cp.cuts) > 256:\n",
    "                        for cut in cp.cuts:\n",
    "                            model += cut\n",
    "                        return\n",
    "        for cut in cp.cuts:\n",
    "            model += cut        \n",
    "\n",
    "def tsp_mip_solver(input_data):\n",
    "    # parse the input\n",
    "    lines = input_data.split('\\n')\n",
    "\n",
    "    nodeCount = int(lines[0])\n",
    "\n",
    "    points = []\n",
    "    for i in range(1, nodeCount+1):\n",
    "        line = lines[i]\n",
    "        parts = line.split()\n",
    "        points.append(Point(float(parts[0]), float(parts[1])))\n",
    "    print('Points parsed!')\n",
    "    \n",
    "    # calculate distance matrix\n",
    "    d_m = [ [length(q,p) for q in points] for p in points]\n",
    "    print('Distance matrix ready!')\n",
    "    \n",
    "    # declare MIP model\n",
    "    m = Model(solver_name='GRB')\n",
    "    print('-Model instatiated!',datetime.datetime.now())\n",
    "    \n",
    "    # states search emphasis\n",
    "    #     - '0' (default) balanced approach\n",
    "    #     - '1' (feasibility) aggressively searches for feasible solutions\n",
    "    #     - '2' (optimality) explores search space to tighten dual gap\n",
    "    m.emphasis = 0\n",
    "    \n",
    "    # whenever the distance of the lower and upper bounds is less or \n",
    "    # equal max_gap*100%, the search can be finished\n",
    "    m.max_mip_gap = 0.05\n",
    "    \n",
    "    # specifies number of used threads\n",
    "    # 0 uses solver default configuration, \n",
    "    # -1 uses the number of available processing cores \n",
    "    # ≥1 uses the specified number of threads. \n",
    "    # An increased number of threads may improve the solution time but also increases \n",
    "    # the memory consumption. Each thread needs to store a different model instance!\n",
    "    m.threads = -1\n",
    "    \n",
    "    \n",
    "    # controls the generation of cutting planes\n",
    "    # cutting planes usually improve the LP relaxation bound but also make the solution time of the LP relaxation larger\n",
    "    # -1 means automatic\n",
    "    #  0 disables completely\n",
    "    #  1 (default) generates cutting planes in a moderate way\n",
    "    #  2 generates cutting planes aggressively\n",
    "    #  3 generates even more cutting planes\n",
    "    m.cuts=3\n",
    "    \n",
    "    m.preprocess=1\n",
    "    m.pump_passes=10\n",
    "    #m.sol_pool_size=1\n",
    "    \n",
    "    # defining nodes as a set\n",
    "    nodes = set(range(nodeCount))\n",
    "    \n",
    "    # defining possible transitions from node to node\n",
    "    arcs = [(i, j) for (i, j) in product(nodes, nodes) if i != j]\n",
    "    \n",
    "    \n",
    "    # instantiate \"entering and leaving\" variables\n",
    "    x = [ [m.add_var(name=\"x{}_{}\".format(p,q),var_type='B') for q in nodes] for p in nodes ] \n",
    "    # instantiate subtour elimination variables \n",
    "    y = [ m.add_var(name=\"y{}\".format(i)) for i in nodes ]\n",
    "    print('-Variables instantiated',datetime.datetime.now())\n",
    "    \n",
    "    # declare objective function\n",
    "    m.objective = minimize( xsum( d_m[i][j]*x[i][j] for i in nodes for j in nodes) )\n",
    "    \n",
    "    print('-Objective declared!',datetime.datetime.now())\n",
    "    \n",
    "    # declare constraints\n",
    "    # leave each city only once\n",
    "    for i in nodes:\n",
    "        m.add_constr( xsum(x[i][j] for j in nodes - {i}) == 1 )\n",
    "\n",
    "    # enter each city only once\n",
    "    for i in nodes:\n",
    "        m.add_constr( xsum(x[j][i] for j in nodes - {i}) == 1 )\n",
    "    \n",
    "    # weak subtour elimination constraints\n",
    "    for (i, j) in tqdm(product(nodes - {0}, nodes - {0})):\n",
    "        if i != j:\n",
    "            m.add_constr( y[i] - (nodeCount+1)*x[i][j] >= y[j]-nodeCount )\n",
    "            \n",
    "    # size 2 subtour elimination constraints\n",
    "    for (i, j) in arcs:\n",
    "            m.add_constr( x[i][j] + x[j][i] <= 1 )\n",
    "            \n",
    "            \n",
    "            \n",
    "    print('-Constraints declared!',datetime.datetime.now())\n",
    "    \n",
    "    #Maximum time in seconds that the search can go on if a feasible solution \n",
    "    #is available and it is not being improved\n",
    "    mssi = 100 #default = inf\n",
    "    # specifies maximum number of nodes to be explored in the search tree (default = inf)\n",
    "    mn = 100000 #default = 1073741824\n",
    "    # optimize model m within a processing time limit of 'ms' seconds\n",
    "    ms = 300 #default = inf\n",
    "    \n",
    "    S=[i for i in range(nodeCount)]\n",
    "    n_it = 5\n",
    "    run_twoopt = True\n",
    "    thld = 0.99\n",
    "    obj = objec(S,points,d_m)\n",
    "    if run_twoopt == True:\n",
    "        for i in range(n_it):\n",
    "            print('Two opt it ({}/{})'.format(i+1,n_it))\n",
    "            s_obj = obj\n",
    "            S = two_opt_search(S,points,d_m)\n",
    "            obj=objec(S,points,d_m)\n",
    "            print('S obj = {} / F obj = {}'.format(s_obj,obj))\n",
    "            if obj/s_obj >= thld:\n",
    "                print('No significant improvement, breaking.')\n",
    "                break\n",
    "    \n",
    "    sol_plot(S,points)\n",
    "    \n",
    "    # warm start with best 2-opt solution\n",
    "    m.start = [(x[S[k-1]][S[k]], 1.0) for k in range(nodeCount)]\n",
    "    print('Warm start set up.')\n",
    "    \n",
    "    # computing farthest point for each point, these will be checked first for\n",
    "    # isolated subtours\n",
    "    print('Preprocessing nodes for Constr. Gen.')\n",
    "    F, G = [], nx.DiGraph()\n",
    "    for (i, j) in tqdm(arcs):\n",
    "        G.add_edge(i, j, weight=d_m[i][j])\n",
    "    for i in tqdm(nodes):\n",
    "        P, D = nx.dijkstra_predecessor_and_distance(G, source=i)\n",
    "        DS = list(D.items())\n",
    "        DS.sort(key=lambda x: x[1])\n",
    "        F.append((i, DS[-1][0]))\n",
    "        \n",
    "    #print('Setting up Subtour Cut Generator')\n",
    "    # sets up the cut generator\n",
    "    #m.cuts_generator = SubTourCutGenerator(F, x, nodes)\n",
    "\n",
    "    # do a really short optimization to set up the variables\n",
    "    print('Setting up LNS',datetime.datetime.now() )\n",
    "    #status = m.optimize(max_seconds = 10)\n",
    "    \n",
    "    sol = S\n",
    "    start_obj = objec(S,points,d_m)\n",
    "    alternate = False\n",
    "    n_it=10\n",
    "    free_vars_n=100\n",
    "    #print('sol:',sol)\n",
    "    for i in range(n_it):\n",
    "        print('\\n it ({}/{}) | Current obj = {}'.format(i+1,n_it,objec(sol,points,d_m)))\n",
    "        # instantiates a copy model for the LNS iteration\n",
    "        print('Copying model...')\n",
    "        m2 = m.copy(solver_name='GRB')\n",
    "        m2.start = [(x[sol[k-1]][sol[k]], 1.0) for k in range(nodeCount)]\n",
    "        # fix a (random?) subset of variables\n",
    "        if alternate == True:\n",
    "            if i%2 == 0:\n",
    "                idx_fixed_vars = random.sample(list(enumerate(sol)), nodeCount-free_vars_n)\n",
    "                print('Disjoint variable set fixed.')\n",
    "            else:\n",
    "                placeholder = shift(list(enumerate(sol)), random.randrange(nodeCount) )\n",
    "                idx_fixed_vars = placeholder[0:nodeCount-free_vars_n]\n",
    "                print('Contiguous variable set fixed.')\n",
    "        else:\n",
    "            placeholder = shift(list(enumerate(sol)), random.randrange(nodeCount) )\n",
    "            idx_fixed_vars = placeholder[0:nodeCount-free_vars_n]\n",
    "                \n",
    "            \n",
    "        print('Fixed {} nodes'.format(len(idx_fixed_vars)))\n",
    "        # add LNS equality constraints\n",
    "        LNS_constr = []\n",
    "        for i in tqdm(range(len(idx_fixed_vars))):\n",
    "            for n in nodes:\n",
    "                    if sol[idx_fixed_vars[i][0]] == n:\n",
    "                        LNS_constr.append(m2.add_constr( x[sol[idx_fixed_vars[i][0]-1]][n] == 1,\n",
    "                                          name=\"LNS_x{}_{}\".format(sol[idx_fixed_vars[i][0]-1],n)))\n",
    "                    else:\n",
    "                        LNS_constr.append(m2.add_constr( x[sol[idx_fixed_vars[i][0]-1]][n] == 0,\n",
    "                                          name=\"LNS_x{}_{}\".format(sol[idx_fixed_vars[i][0]-1],n)))\n",
    "        # optimize\n",
    "        print('Optimizing neighborhood. Costr vec size: {}'.format(len(LNS_constr)))\n",
    "        m2.clique=2\n",
    "        m2.preprocess=1\n",
    "        m2.cuts=3\n",
    "        #m2.max_mip_gap = 1\n",
    "        m2.emphasis = 2\n",
    "        m2.clique_merge()\n",
    "        m2.cuts_generator = SubTourCutGenerator(F, x, nodes)\n",
    "        status = m2.optimize(max_seconds = ms)       \n",
    "        # extract resulting tour\n",
    "        sol= [0]\n",
    "        c_node=0\n",
    "        for j in range(nodeCount-1):\n",
    "            for i in range(nodeCount):\n",
    "                if round(m2.var_by_name(\"x{}_{}\".format(c_node,i)).x) != 0:\n",
    "                    sol.append(i)\n",
    "                    c_node=i\n",
    "                    break\n",
    "        #print('sol:',sol)\n",
    "    \n",
    "    # run short optimization to update objective and dual gap\n",
    "    m2 = m.copy(solver_name='GRB')\n",
    "    m2.start = [(x[sol[k-1]][sol[k]], 1.0) for k in range(nodeCount)]\n",
    "    m2.clique_merge()\n",
    "    status = m2.optimize(max_seconds = 20)\n",
    "    \n",
    "    print('Opt. Status:',status)\n",
    "    print('Dual Bound:',m2.objective_bound)\n",
    "    print('Dual gap:',m2.gap)\n",
    "    \n",
    "    print('\\n Ended LNS. Starting Obj = {} | Final Obj = {}'.format(start_obj,objec(sol,points,d_m)))\n",
    "    \n",
    "    \n",
    "    sol_plot(sol,points)\n",
    "    obj=objec(sol,points,d_m)\n",
    "    \n",
    "    # prepare the solution in the specified output format\n",
    "    if status == OptimizationStatus.OPTIMAL:\n",
    "        output_data = '%.2f' % obj + ' ' + str(1) + '\\n'\n",
    "        output_data += ' '.join(map(str, sol))\n",
    "    elif status == OptimizationStatus.FEASIBLE:\n",
    "        output_data = '%.2f' % obj + ' ' + str(0) + '\\n'\n",
    "        output_data += ' '.join(map(str, sol))\n",
    "\n",
    "    return output_data"
   ]
  },
  {
   "cell_type": "code",
   "execution_count": null,
   "metadata": {
    "ExecuteTime": {
     "start_time": "2020-08-12T00:21:05.843Z"
    }
   },
   "outputs": [
    {
     "name": "stdout",
     "output_type": "stream",
     "text": [
      "Points parsed!\n",
      "Distance matrix ready!\n",
      "-Model instatiated! 2020-08-11 21:21:06.121270\n",
      "-Variables instantiated 2020-08-11 21:21:07.339136\n",
      "-Objective declared! 2020-08-11 21:21:09.490356\n"
     ]
    },
    {
     "data": {
      "application/vnd.jupyter.widget-view+json": {
       "model_id": "d019c01b7f664588bfc316037c1d81b2",
       "version_major": 2,
       "version_minor": 0
      },
      "text/plain": [
       "HBox(children=(FloatProgress(value=1.0, bar_style='info', max=1.0), HTML(value='')))"
      ]
     },
     "metadata": {},
     "output_type": "display_data"
    },
    {
     "name": "stdout",
     "output_type": "stream",
     "text": [
      "\n",
      "-Constraints declared! 2020-08-11 21:21:28.752986\n",
      "Two opt it (1/5)\n"
     ]
    },
    {
     "data": {
      "application/vnd.jupyter.widget-view+json": {
       "model_id": "70e62f9d2c6a4c419af46a0bfe43a55f",
       "version_major": 2,
       "version_minor": 0
      },
      "text/plain": [
       "HBox(children=(FloatProgress(value=0.0, max=439.0), HTML(value='')))"
      ]
     },
     "metadata": {},
     "output_type": "display_data"
    },
    {
     "name": "stdout",
     "output_type": "stream",
     "text": [
      "\n",
      "S obj = 270651.6048375016 / F obj = 123168.30910223635\n",
      "Two opt it (2/5)\n"
     ]
    },
    {
     "data": {
      "application/vnd.jupyter.widget-view+json": {
       "model_id": "bac442c29d14460eb8fd0577b85a76e5",
       "version_major": 2,
       "version_minor": 0
      },
      "text/plain": [
       "HBox(children=(FloatProgress(value=0.0, max=439.0), HTML(value='')))"
      ]
     },
     "metadata": {},
     "output_type": "display_data"
    },
    {
     "name": "stdout",
     "output_type": "stream",
     "text": [
      "\n",
      "S obj = 123168.30910223635 / F obj = 119797.14802261263\n",
      "Two opt it (3/5)\n"
     ]
    },
    {
     "data": {
      "application/vnd.jupyter.widget-view+json": {
       "model_id": "67528084d31f458e9c38823350fd4194",
       "version_major": 2,
       "version_minor": 0
      },
      "text/plain": [
       "HBox(children=(FloatProgress(value=0.0, max=439.0), HTML(value='')))"
      ]
     },
     "metadata": {},
     "output_type": "display_data"
    },
    {
     "name": "stdout",
     "output_type": "stream",
     "text": [
      "\n",
      "S obj = 119797.14802261263 / F obj = 119143.38711929119\n",
      "No significant improvement, breaking.\n",
      "Warm start set up.\n",
      "Preprocessing nodes for Constr. Gen.\n"
     ]
    },
    {
     "data": {
      "application/vnd.jupyter.widget-view+json": {
       "model_id": "28500c26c6fa4b88a17f53f694ba1159",
       "version_major": 2,
       "version_minor": 0
      },
      "text/plain": [
       "HBox(children=(FloatProgress(value=0.0, max=192282.0), HTML(value='')))"
      ]
     },
     "metadata": {},
     "output_type": "display_data"
    },
    {
     "name": "stdout",
     "output_type": "stream",
     "text": [
      "\n"
     ]
    },
    {
     "data": {
      "application/vnd.jupyter.widget-view+json": {
       "model_id": "e81b5fe0a35946fb9417b351e18cba16",
       "version_major": 2,
       "version_minor": 0
      },
      "text/plain": [
       "HBox(children=(FloatProgress(value=0.0, max=439.0), HTML(value='')))"
      ]
     },
     "metadata": {},
     "output_type": "display_data"
    },
    {
     "name": "stdout",
     "output_type": "stream",
     "text": [
      "\n",
      "Setting up LNS 2020-08-11 21:23:34.803453\n",
      "\n",
      " it (1/10) | Current obj = 119143.38711929119\n",
      "Copying model...\n"
     ]
    }
   ],
   "source": [
    "import os\n",
    "notebook_path = os.path.abspath(\"Notebook.ipynb\")\n",
    "data_path = os.path.join(os.path.dirname(notebook_path), \"data\\\\tsp_439_1\")\n",
    "\n",
    "if len(data_path) > 1:\n",
    "    file_location = data_path.strip()\n",
    "    with open(file_location, 'r') as input_data_file:\n",
    "        input_data = input_data_file.read()\n",
    "        print(tsp_mip_solver(input_data))\n"
   ]
  },
  {
   "cell_type": "code",
   "execution_count": null,
   "metadata": {},
   "outputs": [],
   "source": []
  }
 ],
 "metadata": {
  "kernelspec": {
   "display_name": "Python 3",
   "language": "python",
   "name": "python3"
  },
  "language_info": {
   "codemirror_mode": {
    "name": "ipython",
    "version": 3
   },
   "file_extension": ".py",
   "mimetype": "text/x-python",
   "name": "python",
   "nbconvert_exporter": "python",
   "pygments_lexer": "ipython3",
   "version": "3.6.7"
  }
 },
 "nbformat": 4,
 "nbformat_minor": 4
}
