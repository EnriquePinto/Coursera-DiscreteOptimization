{
 "cells": [
  {
   "cell_type": "code",
   "execution_count": 10,
   "metadata": {
    "ExecuteTime": {
     "end_time": "2020-07-07T16:20:27.302781Z",
     "start_time": "2020-07-07T16:20:27.286771Z"
    }
   },
   "outputs": [],
   "source": [
    "from constraint import *\n",
    "import numpy as np\n",
    "from collections import Counter,OrderedDict\n",
    "\n",
    "# utilizar o alldiferent para cada nó\n",
    "def solver_asc(input_data):\n",
    "    # parse the input\n",
    "    lines = input_data.split('\\n')\n",
    "\n",
    "    first_line = lines[0].split()\n",
    "    node_count = int(first_line[0])\n",
    "    edge_count = int(first_line[1])\n",
    "\n",
    "    edges = []\n",
    "    for i in range(1, edge_count + 1):\n",
    "        line = lines[i]\n",
    "        parts = line.split()\n",
    "        edges.append((int(parts[0]), int(parts[1])))\n",
    "\n",
    "    #defines list of neighbor nodes\n",
    "    neigh_nds=[]\n",
    "    for i in range(node_count):\n",
    "        neigh_nds_t=[]\n",
    "        for k in range(edge_count):\n",
    "            if (i in edges[k]):\n",
    "                idx=edges[k].index(i)\n",
    "                neigh_nds_t.append(edges[k][(idx-1)])\n",
    "        neigh_nds.append(neigh_nds_t)   \n",
    "    \n",
    "    nd_lgth=[]\n",
    "    for n in neigh_nds:\n",
    "        nd_lgth.append(len(n))\n",
    "    \n",
    "    connex_count=max(nd_lgth)\n",
    "    print('max connex:',connex_count)\n",
    "    \n",
    "    def dif_const(c1, c2):\n",
    "        if c1 != c2:\n",
    "            return True\n",
    "\n",
    "    def sim_brk_const(x):\n",
    "        if x == 0:\n",
    "            return True\n",
    "    \n",
    "    for i in range(2,(connex_count+2)):\n",
    "        g_color=None# declares constr. prog. problem\n",
    "        g_color = Problem(RecursiveBacktrackingSolver())\n",
    "        # declare all variables\n",
    "        g_color.addVariables(range(node_count), range(i))   \n",
    "        \n",
    "        for e in edges:\n",
    "            g_color.addConstraint(dif_const, (e[0], e[1]))\n",
    "    \n",
    "        for n in range(node_count):\n",
    "            g_color.addConstraint(NotInSetConstraint([n]),neigh_nds[n])\n",
    "\n",
    "        g_color.addConstraint(sim_brk_const, [0])\n",
    "    \n",
    "        solution = g_color.getSolution()\n",
    "        if solution==None:\n",
    "            print(\"no sol c=\",i,\"||\",end='')           \n",
    "        else:\n",
    "            print(\"!>sol c=\",i,\"<!\")\n",
    "            solution=OrderedDict(sorted(solution.items()))\n",
    "            break\n",
    "    \n",
    "    # prepare the solution in the specified output format\n",
    "    output_data = str(i) + ' ' + str(0) + '\\n'\n",
    "    output_data += ' '.join(map(str, solution.values()))\n",
    "    return output_data"
   ]
  },
  {
   "cell_type": "code",
   "execution_count": 11,
   "metadata": {
    "ExecuteTime": {
     "end_time": "2020-07-07T16:20:29.300563Z",
     "start_time": "2020-07-07T16:20:27.661547Z"
    }
   },
   "outputs": [
    {
     "name": "stdout",
     "output_type": "stream",
     "text": [
      "max connex: 67\n",
      "no sol c= 2 ||no sol c= 3 ||no sol c= 4 ||no sol c= 5 ||no sol c= 6 ||no sol c= 7 ||no sol c= 8 ||no sol c= 9 ||no sol c= 10 ||no sol c= 11 ||no sol c= 12 ||no sol c= 13 ||no sol c= 14 ||no sol c= 15 ||no sol c= 16 ||no sol c= 17 ||no sol c= 18 ||no sol c= 19 ||no sol c= 20 ||no sol c= 21 ||no sol c= 22 ||no sol c= 23 ||no sol c= 24 ||no sol c= 25 ||no sol c= 26 ||no sol c= 27 ||no sol c= 28 ||no sol c= 29 ||no sol c= 30 ||no sol c= 31 ||no sol c= 32 ||no sol c= 33 ||no sol c= 34 ||no sol c= 35 ||no sol c= 36 ||no sol c= 37 ||no sol c= 38 ||no sol c= 39 ||no sol c= 40 ||no sol c= 41 ||no sol c= 42 ||no sol c= 43 ||!>sol c= 44 <!\n",
      "44 0\n",
      "0 1 2 3 4 5 6 3 8 9 10 2 1 10 14 11 16 17 6 19 20 2 22 12 24 20 26 27 24 23 14 5 9 25 18 35 26 31 38 37 40 19 13 43 9 33 34 8 10 39 30 43 35 5 22 0 32 42 16 15 9 38 25 36 1 21 7 17 40 4\n"
     ]
    }
   ],
   "source": [
    "import sys  \n",
    "import os\n",
    "notebook_path = os.path.abspath(\"Notebook.ipynb\")\n",
    "data_path = os.path.join(os.path.dirname(notebook_path), \"data\\\\gc_70_9\")\n",
    "\n",
    "if len(data_path) > 1:\n",
    "    file_location = data_path.strip()\n",
    "    with open(file_location, 'r') as input_data_file:\n",
    "        input_data = input_data_file.read()\n",
    "    print(solver_asc(input_data))"
   ]
  },
  {
   "cell_type": "code",
   "execution_count": null,
   "metadata": {},
   "outputs": [],
   "source": []
  },
  {
   "cell_type": "code",
   "execution_count": null,
   "metadata": {},
   "outputs": [],
   "source": []
  }
 ],
 "metadata": {
  "kernelspec": {
   "display_name": "Python 3",
   "language": "python",
   "name": "python3"
  },
  "language_info": {
   "codemirror_mode": {
    "name": "ipython",
    "version": 3
   },
   "file_extension": ".py",
   "mimetype": "text/x-python",
   "name": "python",
   "nbconvert_exporter": "python",
   "pygments_lexer": "ipython3",
   "version": "3.6.7"
  }
 },
 "nbformat": 4,
 "nbformat_minor": 4
}
