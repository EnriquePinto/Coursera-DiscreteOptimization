{
 "cells": [
  {
   "cell_type": "code",
   "execution_count": 1,
   "metadata": {
    "ExecuteTime": {
     "end_time": "2020-07-08T16:32:44.886954Z",
     "start_time": "2020-07-08T16:32:44.056605Z"
    }
   },
   "outputs": [],
   "source": [
    "import numpy as np\n",
    "from collections import Counter, OrderedDict\n",
    "from math import floor,ceil"
   ]
  },
  {
   "cell_type": "code",
   "execution_count": 8,
   "metadata": {
    "ExecuteTime": {
     "end_time": "2020-07-08T16:34:38.028707Z",
     "start_time": "2020-07-08T16:34:38.020701Z"
    }
   },
   "outputs": [],
   "source": [
    "def maxelements(seq):\n",
    "    ''' Return list of position(s) of largest element '''\n",
    "    max_indices = []\n",
    "    if seq:\n",
    "        max_val = seq[0]\n",
    "        for i,val in ((i,val) for i,val in enumerate(seq) if val >= max_val):\n",
    "            if val == max_val:\n",
    "                max_indices.append(i)\n",
    "            else:\n",
    "                max_val = val\n",
    "                max_indices = [i]\n",
    "\n",
    "    return max_indices"
   ]
  },
  {
   "cell_type": "code",
   "execution_count": 83,
   "metadata": {
    "ExecuteTime": {
     "end_time": "2020-07-08T17:24:58.237894Z",
     "start_time": "2020-07-08T17:24:58.230889Z"
    }
   },
   "outputs": [],
   "source": [
    "def avail_color(color_list):\n",
    "    i=0\n",
    "    while True:\n",
    "        if i not in color_list:\n",
    "            return i\n",
    "        i += 1\n",
    "        \n",
    "def greedy(neigh_nds,nd_order):\n",
    "    color = dict()\n",
    "    for nd in nd_order:\n",
    "        used_neighbour_colors = [color[nbr] for nbr in neigh_nds[nd]\n",
    "                                 if nbr in color]\n",
    "        color[nd] = avail_color(used_neighbour_colors)\n",
    "    return color"
   ]
  },
  {
   "cell_type": "code",
   "execution_count": 194,
   "metadata": {
    "ExecuteTime": {
     "end_time": "2020-07-09T00:59:20.169977Z",
     "start_time": "2020-07-09T00:59:20.164974Z"
    }
   },
   "outputs": [],
   "source": [
    "def color_sort(sol):\n",
    "    chr_nbr=max(sol)+1\n",
    "    #sort by color and degrees\n",
    "    order=[]\n",
    "    for i in range(chr_nbr):\n",
    "        c_list=[]\n",
    "        for j in range(len(sol)):\n",
    "            if sol[j]==i:\n",
    "                c_list.append(j)\n",
    "        order.append(c_list)\n",
    "    return order"
   ]
  },
  {
   "cell_type": "code",
   "execution_count": 237,
   "metadata": {
    "ExecuteTime": {
     "end_time": "2020-07-09T01:21:53.772820Z",
     "start_time": "2020-07-09T01:21:53.755807Z"
    }
   },
   "outputs": [],
   "source": [
    "def greedy_solver(input_data):\n",
    "    # parse the input\n",
    "    lines = input_data.split('\\n')\n",
    "\n",
    "    first_line = lines[0].split()\n",
    "    node_count = int(first_line[0])\n",
    "    edge_count = int(first_line[1])\n",
    "\n",
    "    edges = []\n",
    "    for i in range(1, edge_count + 1):\n",
    "        line = lines[i]\n",
    "        parts = line.split()\n",
    "        edges.append((int(parts[0]), int(parts[1])))\n",
    "\n",
    "    #defines list of neighbor nodes\n",
    "    neigh_nds=[]\n",
    "    for i in range(node_count):\n",
    "        neigh_nds_t=[]\n",
    "        for k in range(edge_count):\n",
    "            if (i in edges[k]):\n",
    "                idx=edges[k].index(i)\n",
    "                neigh_nds_t.append(edges[k][(idx-1)])\n",
    "        neigh_nds.append(neigh_nds_t)   \n",
    "    \n",
    "    nd_lgth=[]\n",
    "    for n in neigh_nds:\n",
    "        nd_lgth.append(len(n))\n",
    "    \n",
    "    \n",
    "    #nodes sorted by number of neighbors: (nd, #of nghbrs)\n",
    "    sorted_nds=sorted(list(enumerate(nd_lgth)),key=lambda x:x[1],reverse = True)\n",
    "    print('sorted_nds:',sorted_nds)\n",
    "    \n",
    "    #gets the actual node numbers from sorted list\n",
    "    nd_order = []\n",
    "    for t in sorted_nds:\n",
    "        nd_order.append(t[0])\n",
    "    #print('nd_order:',nd_order)\n",
    "    \n",
    "    solution=greedy(neigh_nds,nd_order)\n",
    "    solution=OrderedDict(sorted(solution.items()))\n",
    "    sol=list(solution.values())\n",
    "    print('color_sort:',color_sort(sol))\n",
    "    #loop greedy and sorting\n",
    "    maxit=1\n",
    "    for i in range(maxit):\n",
    "        #group nodes by color\n",
    "        chr_sort_sol=color_sort(sol)\n",
    "        \n",
    "        #sort nodes by nbr of neighbors\n",
    "        chr_deg_sol_list=[]\n",
    "        for i in chr_sort_sol:\n",
    "            chr_deg_sol=sorted(i,key=lambda x:nd_lgth[x],reverse=True)\n",
    "            chr_deg_sol_list.append(chr_deg_sol)\n",
    "        print('color order sort:',chr_deg_sol_list) \n",
    "        \n",
    "        #make random permutation of colors and extend list\n",
    "        nd_order=[]\n",
    "        rand_perm=np.random.permutation(len(chr_deg_sol_list))\n",
    "        for i in rand_perm:\n",
    "            nd_order.extend(chr_deg_sol_list[i])     \n",
    "        print('new nd_order:',nd_order)\n",
    "        \n",
    "        #find new solution\n",
    "        solution=greedy(neigh_nds,nd_order)\n",
    "        solution=OrderedDict(sorted(solution.items()))\n",
    "        sol=list(solution.values())\n",
    "        #end loop\n",
    "        \n",
    "    #chrom_nbr=print(max(solution.values()))   \n",
    "    output_data = str(node_count) + ' ' + str(0) + '\\n'\n",
    "    output_data += ' '.join(map(str, sol))\n",
    "    return output_data"
   ]
  },
  {
   "cell_type": "code",
   "execution_count": 238,
   "metadata": {
    "ExecuteTime": {
     "end_time": "2020-07-09T01:21:54.017287Z",
     "start_time": "2020-07-09T01:21:54.006278Z"
    }
   },
   "outputs": [
    {
     "name": "stdout",
     "output_type": "stream",
     "text": [
      "sorted_nds: [(17, 5), (1, 4), (2, 4), (16, 4), (3, 3), (4, 3), (6, 3), (11, 3), (13, 3), (5, 2), (7, 2), (15, 2), (0, 1), (8, 1), (9, 1), (10, 1), (12, 1), (14, 1), (18, 1), (19, 1)]\n",
      "color_sort: [[1, 5, 9, 13, 14, 16, 17, 18], [0, 2, 3, 4, 6, 8, 10, 12, 15, 19], [7, 11]]\n",
      "color order sort: [[17, 1, 16, 13, 5, 9, 14, 18], [2, 3, 4, 6, 15, 0, 8, 10, 12, 19], [11, 7]]\n",
      "new nd_order: [11, 7, 2, 3, 4, 6, 15, 0, 8, 10, 12, 19, 17, 1, 16, 13, 5, 9, 14, 18]\n",
      "20 0\n",
      "1 0 1 1 1 0 1 2 1 0 1 2 1 0 0 1 0 0 0 1\n"
     ]
    }
   ],
   "source": [
    "import sys  \n",
    "import os\n",
    "notebook_path = os.path.abspath(\"Notebook.ipynb\")\n",
    "data_path = os.path.join(os.path.dirname(notebook_path), \"data\\\\gc_20_1\")\n",
    "\n",
    "if len(data_path) > 1:\n",
    "    file_location = data_path.strip()\n",
    "    with open(file_location, 'r') as input_data_file:\n",
    "        input_data = input_data_file.read()\n",
    "    print(greedy_solver(input_data))"
   ]
  },
  {
   "cell_type": "code",
   "execution_count": null,
   "metadata": {},
   "outputs": [],
   "source": []
  }
 ],
 "metadata": {
  "kernelspec": {
   "display_name": "Python 3",
   "language": "python",
   "name": "python3"
  },
  "language_info": {
   "codemirror_mode": {
    "name": "ipython",
    "version": 3
   },
   "file_extension": ".py",
   "mimetype": "text/x-python",
   "name": "python",
   "nbconvert_exporter": "python",
   "pygments_lexer": "ipython3",
   "version": "3.6.7"
  }
 },
 "nbformat": 4,
 "nbformat_minor": 4
}
