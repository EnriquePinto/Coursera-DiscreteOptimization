{
 "cells": [
  {
   "cell_type": "code",
   "execution_count": 48,
   "metadata": {},
   "outputs": [],
   "source": [
    "from constraint import *\n",
    "import numpy as np\n",
    "from collections import Counter\n",
    "\n",
    "# utilizar o alldiferent para cada nó\n",
    "def base_solv(input_data):\n",
    "    # parse the input\n",
    "    lines = input_data.split('\\n')\n",
    "\n",
    "    first_line = lines[0].split()\n",
    "    node_count = int(first_line[0])\n",
    "    edge_count = int(first_line[1])\n",
    "\n",
    "    edges = []\n",
    "    for i in range(1, edge_count + 1):\n",
    "        line = lines[i]\n",
    "        parts = line.split()\n",
    "        edges.append((int(parts[0]), int(parts[1])))\n",
    "\n",
    "    #defines list of neighbor nodes\n",
    "    neigh_nds=[]\n",
    "    for i in range(node_count):\n",
    "        neigh_nds_t=[]\n",
    "        for k in range(edge_count):\n",
    "            if (i in edges[k]):\n",
    "                idx=edges[k].index(i)\n",
    "                neigh_nds_t.append(edges[k][(idx-1)])\n",
    "        neigh_nds.append(neigh_nds_t)   \n",
    "    \n",
    "    nd_lgth=[]\n",
    "    for n in neigh_nds:\n",
    "        nd_lgth.append(len(n))\n",
    "    \n",
    "    connex_count=max(nd_lgth)\n",
    "    max_con_nd=nd_lgth.index(connex_count)\n",
    "    print('max connex:',connex_count)\n",
    "    print('most con node:',max_con_nd)\n",
    "    \n",
    "    def dif_const(c1, c2):\n",
    "        if c1 != c2:\n",
    "            return True\n",
    "\n",
    "    def sim_brk_const(x):\n",
    "        if x == 0:\n",
    "            return True\n",
    "                \n",
    "    for i in range(2,(connex_count+2)):\n",
    "        # declares constr. prog. problem\n",
    "        g_color = Problem(RecursiveBacktrackingSolver())\n",
    "        # declare all variables\n",
    "        g_color.addVariables(range(node_count), range(i))\n",
    "\n",
    "        \n",
    "        \n",
    "        for e in edges:\n",
    "            g_color.addConstraint(dif_const, (e[0], e[1]))\n",
    "    \n",
    "        for n in range(node_count):\n",
    "            g_color.addConstraint(NotInSetConstraint([n]),neigh_nds[n])\n",
    "\n",
    "        g_color.addConstraint(sim_brk_const, [max_con_nd])\n",
    "    \n",
    "        solution = g_color.getSolution()\n",
    "\n",
    "        if solution is None:\n",
    "            print(\"No solutions found for c=\",i)\n",
    "        else:\n",
    "            break\n",
    "    \n",
    "    # prepare the solution in the specified output format\n",
    "    output_data = str(node_count) + ' ' + str(0) + '\\n'\n",
    "    output_data += ' '.join(map(str, solution))\n",
    "    return output_data"
   ]
  },
  {
   "cell_type": "code",
   "execution_count": 50,
   "metadata": {},
   "outputs": [
    {
     "name": "stdout",
     "output_type": "stream",
     "text": [
      "max connex: 3\n",
      "most con node: 1\n",
      "4 0\n",
      "1 0 2 3\n"
     ]
    }
   ],
   "source": [
    "import sys  \n",
    "import os\n",
    "notebook_path = os.path.abspath(\"Notebook.ipynb\")\n",
    "data_path = os.path.join(os.path.dirname(notebook_path), \"data\\\\gc_4_1\")\n",
    "\n",
    "if len(data_path) > 1:\n",
    "    file_location = data_path.strip()\n",
    "    with open(file_location, 'r') as input_data_file:\n",
    "        input_data = input_data_file.read()\n",
    "    print(base_solv(input_data))"
   ]
  },
  {
   "cell_type": "code",
   "execution_count": null,
   "metadata": {},
   "outputs": [],
   "source": []
  }
 ],
 "metadata": {
  "kernelspec": {
   "display_name": "Python 3",
   "language": "python",
   "name": "python3"
  },
  "language_info": {
   "codemirror_mode": {
    "name": "ipython",
    "version": 3
   },
   "file_extension": ".py",
   "mimetype": "text/x-python",
   "name": "python",
   "nbconvert_exporter": "python",
   "pygments_lexer": "ipython3",
   "version": "3.6.7"
  }
 },
 "nbformat": 4,
 "nbformat_minor": 4
}
