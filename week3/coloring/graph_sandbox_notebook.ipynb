{
 "cells": [
  {
   "cell_type": "code",
   "execution_count": 1,
   "metadata": {
    "ExecuteTime": {
     "end_time": "2020-07-08T23:06:47.362206Z",
     "start_time": "2020-07-08T23:06:47.170051Z"
    }
   },
   "outputs": [],
   "source": [
    "from constraint import *\n",
    "import numpy as np\n",
    "from collections import Counter, OrderedDict"
   ]
  },
  {
   "cell_type": "code",
   "execution_count": 13,
   "metadata": {
    "ExecuteTime": {
     "end_time": "2020-07-08T23:07:42.969551Z",
     "start_time": "2020-07-08T23:07:42.946534Z"
    }
   },
   "outputs": [],
   "source": [
    "from constraint import *\n",
    "import numpy as np\n",
    "from collections import Counter, OrderedDict\n",
    "\n",
    "# utilizar o alldiferent para cada nó\n",
    "def base_solv(input_data,chr_nbr):\n",
    "    # parse the input\n",
    "    lines = input_data.split('\\n')\n",
    "\n",
    "    first_line = lines[0].split()\n",
    "    node_count = int(first_line[0])\n",
    "    edge_count = int(first_line[1])\n",
    "    \n",
    "    print('nd cnt',node_count)\n",
    "    edges = []\n",
    "    for i in range(1, edge_count + 1):\n",
    "        line = lines[i]\n",
    "        parts = line.split()\n",
    "        edges.append((int(parts[0]), int(parts[1])))\n",
    "\n",
    "    #defines list of neighbor nodes\n",
    "    neigh_nds=[]\n",
    "    for i in range(node_count):\n",
    "        neigh_nds_t=[]\n",
    "        for k in range(edge_count):\n",
    "            if (i in edges[k]):\n",
    "                idx=edges[k].index(i)\n",
    "                neigh_nds_t.append(edges[k][(idx-1)])\n",
    "        neigh_nds.append(neigh_nds_t)   \n",
    "    \n",
    "    #discovers maximum connections \n",
    "    nd_lgth=[]\n",
    "    for n in neigh_nds:\n",
    "        nd_lgth.append(len(n))\n",
    "    \n",
    "    print(nd_lgth)\n",
    "    connex_count=max(nd_lgth)\n",
    "    print('max connex:',connex_count)\n",
    "    max_connex_nd=np.argmax(nd_lgth)\n",
    "    print('max connex nd:',max_connex_nd)\n",
    "    \n",
    "    def dif_const(c1, c2):\n",
    "        if c1 != c2:\n",
    "            return True\n",
    "\n",
    "    def sim_brk_const1(x):\n",
    "        if x == 0:\n",
    "            return True\n",
    "    \n",
    "    \n",
    "    chrom_nbrs=[chr_nbr]\n",
    "    print('clr nbr:',chr_nbr)\n",
    "    \n",
    "    for i in chrom_nbrs:\n",
    "        # declares constr. prog. problem\n",
    "        g_color = Problem()\n",
    "        # declare all variables\n",
    "        g_color.addVariables(range(node_count), range(i))\n",
    "        \n",
    "        for e in edges:\n",
    "            g_color.addConstraint(dif_const, (e[0], e[1]))\n",
    "    \n",
    "        for n in range(node_count):\n",
    "            g_color.addConstraint(NotInSetConstraint([n]),neigh_nds[n])\n",
    "\n",
    "        g_color.addConstraint(sim_brk_const1, [0])\n",
    "        \n",
    "        print('test:',[neigh_nds[max_connex_nd]])\n",
    "        \n",
    "        solution = g_color.getSolution()\n",
    "\n",
    "        if solution is None:\n",
    "            print(\"No solutions found for c=\",i)\n",
    "        else:\n",
    "            break\n",
    "    solution=OrderedDict(sorted(solution.items()))\n",
    "    #print(solution)\n",
    "    # prepare the solution in the specified output format\n",
    "    output_data = str(chr_nbr) + ' ' + str(0) + '\\n'\n",
    "    output_data += ' '.join(map(str, solution.values()))\n",
    "    return output_data"
   ]
  },
  {
   "cell_type": "code",
   "execution_count": 49,
   "metadata": {
    "ExecuteTime": {
     "end_time": "2020-07-08T23:08:58.511770Z",
     "start_time": "2020-07-08T23:08:52.480486Z"
    }
   },
   "outputs": [
    {
     "name": "stdout",
     "output_type": "stream",
     "text": [
      "nd cnt 70\n",
      "[29, 35, 40, 34, 29, 28, 36, 32, 38, 32, 36, 39, 31, 34, 33, 31, 34, 32, 28, 32, 33, 35, 31, 37, 36, 40, 38, 36, 36, 37, 31, 40, 34, 42, 37, 28, 30, 39, 33, 33, 30, 40, 31, 32, 43, 40, 33, 38, 37, 40, 43, 34, 42, 39, 31, 43, 22, 35, 33, 37, 39, 41, 32, 33, 36, 40, 44, 37, 36, 40]\n",
      "max connex: 44\n",
      "max connex nd: 66\n",
      "clr nbr: 10\n",
      "test: [[0, 1, 3, 4, 5, 9, 11, 12, 13, 14, 15, 16, 17, 19, 20, 23, 25, 26, 27, 28, 29, 30, 31, 32, 33, 35, 38, 39, 41, 42, 43, 46, 47, 48, 49, 50, 51, 53, 57, 58, 60, 64, 65, 69]]\n",
      "No solutions found for c= 10\n"
     ]
    },
    {
     "ename": "AttributeError",
     "evalue": "'NoneType' object has no attribute 'items'",
     "output_type": "error",
     "traceback": [
      "\u001b[1;31m---------------------------------------------------------------------------\u001b[0m",
      "\u001b[1;31mAttributeError\u001b[0m                            Traceback (most recent call last)",
      "\u001b[1;32m<ipython-input-49-7bc70c055a62>\u001b[0m in \u001b[0;36m<module>\u001b[1;34m\u001b[0m\n\u001b[0;32m      8\u001b[0m     \u001b[1;32mwith\u001b[0m \u001b[0mopen\u001b[0m\u001b[1;33m(\u001b[0m\u001b[0mfile_location\u001b[0m\u001b[1;33m,\u001b[0m \u001b[1;34m'r'\u001b[0m\u001b[1;33m)\u001b[0m \u001b[1;32mas\u001b[0m \u001b[0minput_data_file\u001b[0m\u001b[1;33m:\u001b[0m\u001b[1;33m\u001b[0m\u001b[1;33m\u001b[0m\u001b[0m\n\u001b[0;32m      9\u001b[0m         \u001b[0minput_data\u001b[0m \u001b[1;33m=\u001b[0m \u001b[0minput_data_file\u001b[0m\u001b[1;33m.\u001b[0m\u001b[0mread\u001b[0m\u001b[1;33m(\u001b[0m\u001b[1;33m)\u001b[0m\u001b[1;33m\u001b[0m\u001b[1;33m\u001b[0m\u001b[0m\n\u001b[1;32m---> 10\u001b[1;33m     \u001b[0mprint\u001b[0m\u001b[1;33m(\u001b[0m\u001b[0mbase_solv\u001b[0m\u001b[1;33m(\u001b[0m\u001b[0minput_data\u001b[0m\u001b[1;33m,\u001b[0m\u001b[1;36m10\u001b[0m\u001b[1;33m)\u001b[0m\u001b[1;33m)\u001b[0m\u001b[1;33m\u001b[0m\u001b[1;33m\u001b[0m\u001b[0m\n\u001b[0m",
      "\u001b[1;32m<ipython-input-13-97d9aab1fc01>\u001b[0m in \u001b[0;36mbase_solv\u001b[1;34m(input_data, chr_nbr)\u001b[0m\n\u001b[0;32m     74\u001b[0m         \u001b[1;32melse\u001b[0m\u001b[1;33m:\u001b[0m\u001b[1;33m\u001b[0m\u001b[1;33m\u001b[0m\u001b[0m\n\u001b[0;32m     75\u001b[0m             \u001b[1;32mbreak\u001b[0m\u001b[1;33m\u001b[0m\u001b[1;33m\u001b[0m\u001b[0m\n\u001b[1;32m---> 76\u001b[1;33m     \u001b[0msolution\u001b[0m\u001b[1;33m=\u001b[0m\u001b[0mOrderedDict\u001b[0m\u001b[1;33m(\u001b[0m\u001b[0msorted\u001b[0m\u001b[1;33m(\u001b[0m\u001b[0msolution\u001b[0m\u001b[1;33m.\u001b[0m\u001b[0mitems\u001b[0m\u001b[1;33m(\u001b[0m\u001b[1;33m)\u001b[0m\u001b[1;33m)\u001b[0m\u001b[1;33m)\u001b[0m\u001b[1;33m\u001b[0m\u001b[1;33m\u001b[0m\u001b[0m\n\u001b[0m\u001b[0;32m     77\u001b[0m     \u001b[1;31m#print(solution)\u001b[0m\u001b[1;33m\u001b[0m\u001b[1;33m\u001b[0m\u001b[1;33m\u001b[0m\u001b[0m\n\u001b[0;32m     78\u001b[0m     \u001b[1;31m# prepare the solution in the specified output format\u001b[0m\u001b[1;33m\u001b[0m\u001b[1;33m\u001b[0m\u001b[1;33m\u001b[0m\u001b[0m\n",
      "\u001b[1;31mAttributeError\u001b[0m: 'NoneType' object has no attribute 'items'"
     ]
    }
   ],
   "source": [
    "import sys  \n",
    "import os\n",
    "notebook_path = os.path.abspath(\"Notebook.ipynb\")\n",
    "data_path = os.path.join(os.path.dirname(notebook_path), \"data\\\\gc_70_5\")\n",
    "\n",
    "if len(data_path) > 1:\n",
    "    file_location = data_path.strip()\n",
    "    with open(file_location, 'r') as input_data_file:\n",
    "        input_data = input_data_file.read()\n",
    "    print(base_solv(input_data,10))"
   ]
  },
  {
   "cell_type": "code",
   "execution_count": null,
   "metadata": {},
   "outputs": [],
   "source": []
  }
 ],
 "metadata": {
  "kernelspec": {
   "display_name": "Python 3",
   "language": "python",
   "name": "python3"
  },
  "language_info": {
   "codemirror_mode": {
    "name": "ipython",
    "version": 3
   },
   "file_extension": ".py",
   "mimetype": "text/x-python",
   "name": "python",
   "nbconvert_exporter": "python",
   "pygments_lexer": "ipython3",
   "version": "3.6.7"
  }
 },
 "nbformat": 4,
 "nbformat_minor": 4
}
