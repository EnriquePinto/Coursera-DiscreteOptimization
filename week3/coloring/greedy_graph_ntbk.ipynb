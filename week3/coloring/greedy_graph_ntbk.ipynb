{
 "cells": [
  {
   "cell_type": "code",
   "execution_count": 275,
   "metadata": {
    "ExecuteTime": {
     "end_time": "2020-07-09T01:34:18.761724Z",
     "start_time": "2020-07-09T01:34:18.757722Z"
    }
   },
   "outputs": [],
   "source": [
    "import numpy as np\n",
    "from collections import Counter, OrderedDict\n",
    "from math import floor,ceil\n",
    "from tqdm.notebook import tqdm"
   ]
  },
  {
   "cell_type": "code",
   "execution_count": 8,
   "metadata": {
    "ExecuteTime": {
     "end_time": "2020-07-08T16:34:38.028707Z",
     "start_time": "2020-07-08T16:34:38.020701Z"
    }
   },
   "outputs": [],
   "source": [
    "def maxelements(seq):\n",
    "    ''' Return list of position(s) of largest element '''\n",
    "    max_indices = []\n",
    "    if seq:\n",
    "        max_val = seq[0]\n",
    "        for i,val in ((i,val) for i,val in enumerate(seq) if val >= max_val):\n",
    "            if val == max_val:\n",
    "                max_indices.append(i)\n",
    "            else:\n",
    "                max_val = val\n",
    "                max_indices = [i]\n",
    "\n",
    "    return max_indices"
   ]
  },
  {
   "cell_type": "code",
   "execution_count": 83,
   "metadata": {
    "ExecuteTime": {
     "end_time": "2020-07-08T17:24:58.237894Z",
     "start_time": "2020-07-08T17:24:58.230889Z"
    }
   },
   "outputs": [],
   "source": [
    "def avail_color(color_list):\n",
    "    i=0\n",
    "    while True:\n",
    "        if i not in color_list:\n",
    "            return i\n",
    "        i += 1\n",
    "        \n",
    "def greedy(neigh_nds,nd_order):\n",
    "    color = dict()\n",
    "    for nd in nd_order:\n",
    "        used_neighbour_colors = [color[nbr] for nbr in neigh_nds[nd]\n",
    "                                 if nbr in color]\n",
    "        color[nd] = avail_color(used_neighbour_colors)\n",
    "    return color"
   ]
  },
  {
   "cell_type": "code",
   "execution_count": 194,
   "metadata": {
    "ExecuteTime": {
     "end_time": "2020-07-09T00:59:20.169977Z",
     "start_time": "2020-07-09T00:59:20.164974Z"
    }
   },
   "outputs": [],
   "source": [
    "def color_sort(sol):\n",
    "    chr_nbr=max(sol)+1\n",
    "    #sort by color and degrees\n",
    "    order=[]\n",
    "    for i in range(chr_nbr):\n",
    "        c_list=[]\n",
    "        for j in range(len(sol)):\n",
    "            if sol[j]==i:\n",
    "                c_list.append(j)\n",
    "        order.append(c_list)\n",
    "    return order"
   ]
  },
  {
   "cell_type": "code",
   "execution_count": 270,
   "metadata": {
    "ExecuteTime": {
     "end_time": "2020-07-09T01:32:39.702408Z",
     "start_time": "2020-07-09T01:32:39.685396Z"
    }
   },
   "outputs": [],
   "source": [
    "def it_greedy_solver(input_data,maxit):\n",
    "    # parse the input\n",
    "    lines = input_data.split('\\n')\n",
    "\n",
    "    first_line = lines[0].split()\n",
    "    node_count = int(first_line[0])\n",
    "    edge_count = int(first_line[1])\n",
    "\n",
    "    edges = []\n",
    "    for i in range(1, edge_count + 1):\n",
    "        line = lines[i]\n",
    "        parts = line.split()\n",
    "        edges.append((int(parts[0]), int(parts[1])))\n",
    "\n",
    "    #defines list of neighbor nodes\n",
    "    neigh_nds=[]\n",
    "    for i in range(node_count):\n",
    "        neigh_nds_t=[]\n",
    "        for k in range(edge_count):\n",
    "            if (i in edges[k]):\n",
    "                idx=edges[k].index(i)\n",
    "                neigh_nds_t.append(edges[k][(idx-1)])\n",
    "        neigh_nds.append(neigh_nds_t)   \n",
    "    \n",
    "    nd_lgth=[]\n",
    "    for n in neigh_nds:\n",
    "        nd_lgth.append(len(n))\n",
    "    \n",
    "    \n",
    "    #nodes sorted by number of neighbors: (nd, #of nghbrs)\n",
    "    sorted_nds=sorted(list(enumerate(nd_lgth)),key=lambda x:x[1],reverse = True)\n",
    "    #print('sorted_nds:',sorted_nds)\n",
    "    \n",
    "    #gets the actual node numbers from sorted list\n",
    "    nd_order = []\n",
    "    for t in sorted_nds:\n",
    "        nd_order.append(t[0])\n",
    "    #print('nd_order:',nd_order)\n",
    "    \n",
    "    solution=greedy(neigh_nds,nd_order)\n",
    "    solution=OrderedDict(sorted(solution.items()))\n",
    "    sol=list(solution.values())\n",
    "    #print('color_sort:',color_sort(sol))\n",
    "    #loop greedy and sorting\n",
    "    for i in tqdm(range(maxit)):\n",
    "        #group nodes by color\n",
    "        chr_sort_sol=color_sort(sol)\n",
    "        \n",
    "        #sort nodes by nbr of neighbors\n",
    "        chr_deg_sol_list=[]\n",
    "        for i in chr_sort_sol:\n",
    "            chr_deg_sol=sorted(i,key=lambda x:nd_lgth[x],reverse=True)\n",
    "            chr_deg_sol_list.append(chr_deg_sol)\n",
    "        #print('color order sort:',chr_deg_sol_list) \n",
    "        \n",
    "        #make random permutation of colors and extend list\n",
    "        nd_order=[]\n",
    "        rand_perm=np.random.permutation(len(chr_deg_sol_list))\n",
    "        for i in rand_perm:\n",
    "            nd_order.extend(chr_deg_sol_list[i])     \n",
    "        #print('new nd_order:',nd_order)\n",
    "        \n",
    "        #find new solution\n",
    "        solution=greedy(neigh_nds,nd_order)\n",
    "        solution=OrderedDict(sorted(solution.items()))\n",
    "        sol=list(solution.values())\n",
    "        #print('')\n",
    "        #end loop\n",
    "        \n",
    "    #chrom_nbr=print(max(solution.values()))   \n",
    "    output_data = str(max(sol)+1) + ' ' + str(0) + '\\n'\n",
    "    output_data += ' '.join(map(str, sol))\n",
    "    return output_data"
   ]
  },
  {
   "cell_type": "code",
   "execution_count": 276,
   "metadata": {
    "ExecuteTime": {
     "end_time": "2020-07-09T01:36:55.738785Z",
     "start_time": "2020-07-09T01:34:24.688328Z"
    }
   },
   "outputs": [
    {
     "data": {
      "application/vnd.jupyter.widget-view+json": {
       "model_id": "712a66df683a4318ab0378521a5fb467",
       "version_major": 2,
       "version_minor": 0
      },
      "text/plain": [
       "HBox(children=(FloatProgress(value=0.0, max=10000.0), HTML(value='')))"
      ]
     },
     "metadata": {},
     "output_type": "display_data"
    },
    {
     "name": "stdout",
     "output_type": "stream",
     "text": [
      "\n",
      "38 0\n",
      "5 11 18 15 6 8 11 0 21 32 2 24 10 4 32 0 12 25 23 22 21 1 35 30 11 18 34 9 30 20 21 31 24 32 14 30 36 20 18 35 34 7 13 10 1 12 9 17 7 12 24 29 22 17 3 9 37 3 26 2 28 11 34 28 22 24 21 0 0 12 22 3 7 3 7 24 27 17 17 23 30 12 35 9 12 5 28 27 22 1 19 27 32 15 15 12 17 15 36 27 10 5 3 1 22 20 5 15 25 7 7 13 9 5 18 10 34 23 31 5 5 7 36 0 29 13 18 20 6 18 21 2 12 12 7 14 23 1 2 28 16 23 2 18 32 30 33 10 19 6 32 29 18 27 10 5 21 20 33 1 4 5 18 0 37 1 17 36 10 22 4 14 31 36 33 35 8 0 23 3 12 18 5 23 9 31 26 29 0 21 13 7 0 3 3 11 10 2 0 31 11 17 35 9 35 2 8 27 24 15 31 35 23 10 24 6 16 11 29 1 26 16 15 34 36 30 24 26 3 7 8 18 0 13 12 25 24 13 31 20 8 28 20 17 9 7 27 34 8 31 15 25 35 17 19 6 12 19 33 5 8 10 36 21 6 30 31 20 33 29 21 21 32 27 25 3 13 1 4 33 23 6 16 11 24 25 18 28 20 8 23 19 6 28 1 19 35 9 34 5 34 37 6 14 21 9 29 5 14 16 4 28 19 36 9 14 9 4 17 1 3 24 28 2 34 21 4 25 14 3 36 26 11 15 8 30 7 34 26 12 11 12 12 6 0 25 17 34 37 20 15 14 29 19 8 2 6 4 0 1 4 4 11 2 36 2 7 4 10 37 26 4 10 15 13 4 29 29 23 23 24 1 6 32 10 23 26 7 18 2 20 31 32 8 33 22 25 26 35 33 30 35 1 7 29 17 4 37 18 13 14 26 8 13 14 5 6 19 8 17 15 16 19 11 19 14 21 33 20 16 34 17 21 6 16 3 26 2 26 27 16 20 28 16 19 0 15 22 10 3 3 27 25 22 17 2 19 27 36 2 7 2 5 1 6 4 11 13 14 8 8 13 34 9 21 36 12 37 9 1 16 29 25 28 31 33 22 10 1 4 27 11 30 11 30 31 14 34 23 30\n"
     ]
    }
   ],
   "source": [
    "import sys  \n",
    "import os\n",
    "notebook_path = os.path.abspath(\"Notebook.ipynb\")\n",
    "data_path = os.path.join(os.path.dirname(notebook_path), \"data\\\\gc_500_3\")\n",
    "\n",
    "if len(data_path) > 1:\n",
    "    file_location = data_path.strip()\n",
    "    with open(file_location, 'r') as input_data_file:\n",
    "        input_data = input_data_file.read()\n",
    "    print(it_greedy_solver(input_data,10000))"
   ]
  },
  {
   "cell_type": "code",
   "execution_count": null,
   "metadata": {},
   "outputs": [],
   "source": []
  }
 ],
 "metadata": {
  "kernelspec": {
   "display_name": "Python 3",
   "language": "python",
   "name": "python3"
  },
  "language_info": {
   "codemirror_mode": {
    "name": "ipython",
    "version": 3
   },
   "file_extension": ".py",
   "mimetype": "text/x-python",
   "name": "python",
   "nbconvert_exporter": "python",
   "pygments_lexer": "ipython3",
   "version": "3.6.7"
  }
 },
 "nbformat": 4,
 "nbformat_minor": 4
}
