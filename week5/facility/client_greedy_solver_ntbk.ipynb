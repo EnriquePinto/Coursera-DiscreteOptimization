{
 "cells": [
  {
   "cell_type": "code",
   "execution_count": 1,
   "metadata": {
    "ExecuteTime": {
     "end_time": "2020-07-27T18:52:15.996917Z",
     "start_time": "2020-07-27T18:52:14.268694Z"
    }
   },
   "outputs": [],
   "source": [
    "import sys\n",
    "import os\n",
    "from collections import namedtuple\n",
    "import math\n",
    "import matplotlib.pyplot as plt\n",
    "from itertools import product\n",
    "from random import sample, shuffle\n",
    "import datetime\n",
    "from tqdm.notebook import tqdm\n",
    "\n",
    "plt.rcParams['figure.figsize'] = [12, 8]"
   ]
  },
  {
   "cell_type": "code",
   "execution_count": 2,
   "metadata": {
    "ExecuteTime": {
     "end_time": "2020-07-27T18:52:16.021935Z",
     "start_time": "2020-07-27T18:52:15.998918Z"
    }
   },
   "outputs": [],
   "source": [
    "Point = namedtuple(\"Point\", ['x', 'y'])\n",
    "Facility = namedtuple(\"Facility\", ['index', 'setup_cost', 'capacity', 'location'])\n",
    "Customer = namedtuple(\"Customer\", ['index', 'demand', 'location'])\n",
    "\n",
    "def length(point1, point2):\n",
    "    return math.sqrt((point1.x - point2.x)**2 + (point1.y - point2.y)**2)\n",
    "\n",
    "def cost(solution, customers, facilities):\n",
    "    # checks what was used\n",
    "    used = []\n",
    "    for i in solution:\n",
    "        if i not in used:\n",
    "            used.append(i)\n",
    "    \n",
    "    # calculate the cost of the solution\n",
    "    obj = sum([facilities[f].setup_cost for f in used])\n",
    "    \n",
    "    for customer in customers:\n",
    "        obj += length(customer.location, facilities[solution[customer.index]].location)\n",
    "    \n",
    "    return obj\n",
    "\n",
    "def shuffle_list(*ls):\n",
    "    l =list(zip(*ls))\n",
    "    shuffle(l)\n",
    "    return zip(*l)\n",
    "    \n",
    "def sol_plot(input_data, solution):\n",
    "    lines = input_data.split('\\n')\n",
    "\n",
    "    parts = lines[0].split()\n",
    "    facility_count = int(parts[0])\n",
    "    customer_count = int(parts[1])\n",
    "    \n",
    "    facilities = []\n",
    "    for i in range(1, facility_count+1):\n",
    "        parts = lines[i].split()\n",
    "        facilities.append(Facility(i-1, float(parts[0]), int(parts[1]), Point(float(parts[2]), float(parts[3])) ))\n",
    "\n",
    "    customers = []\n",
    "    for i in range(facility_count+1, facility_count+1+customer_count):\n",
    "        parts = lines[i].split()\n",
    "        customers.append(Customer(i-1-facility_count, int(parts[0]), Point(float(parts[1]), float(parts[2]))))\n",
    "        \n",
    "    # plot the points\n",
    "    j=0\n",
    "    for i in facilities:\n",
    "        plt.plot(i.location.x, i.location.y,'rx')\n",
    "        #plt.annotate(j,(i.location.x, i.location.y))\n",
    "        j=j+1\n",
    "    \n",
    "    j=0\n",
    "    for i in customers:\n",
    "        plt.plot(i.location.x, i.location.y,'k.')\n",
    "        #plt.annotate(j,(i.location.x, i.location.y))\n",
    "        j=j+1\n",
    "    \n",
    "    for i in range(customer_count):      \n",
    "        plt.plot((customers[i].location.x, facilities[solution[i]].location.x),\n",
    "                 (customers[i].location.y, facilities[solution[i]].location.y),'-')\n",
    "    \n",
    "    plt.grid(1)"
   ]
  },
  {
   "cell_type": "code",
   "execution_count": 9,
   "metadata": {
    "ExecuteTime": {
     "end_time": "2020-07-27T19:22:13.428903Z",
     "start_time": "2020-07-27T19:22:13.376867Z"
    }
   },
   "outputs": [],
   "source": [
    "def reorder(solution, customers, facilities):\n",
    "    customer_count = len(customers)\n",
    "    types = set(solution)\n",
    "    types = list(types)\n",
    "    groups = []\n",
    "    for t in types:\n",
    "        group = []\n",
    "        for i in range(customer_count):\n",
    "            if solution[i] == t:\n",
    "                group.append(i)\n",
    "        groups.append(group)\n",
    "    return groups, types\n",
    "\n",
    "def greedy_iter(c_order, customers, facilities):\n",
    "    customer_count = len(customers)\n",
    "    facility_count = len(facilities)\n",
    "    # instantiate customer-facility assignment vector\n",
    "    sol = [None] * customer_count\n",
    "    \n",
    "    # instantiate used facilities list\n",
    "    used = []\n",
    "    \n",
    "    # instantiate available capacity vector\n",
    "    av_cap = [None] * facility_count\n",
    "    for f in facilities:\n",
    "        av_cap[f.index] = f.capacity\n",
    "    \n",
    "    # go through greedy assignment\n",
    "    for c in c_order:\n",
    "        # checks for available facilities and stores their index\n",
    "        av_facs = []\n",
    "        for i in range(facility_count):\n",
    "            if av_cap[i] >= customers[c].demand:\n",
    "                av_facs.append(i)\n",
    "        # checks available facilities for the one with smallest su_cost + distance\n",
    "        # obs: if a facility is open, then its effective su_cost after being opened is 0\n",
    "        best_cost = float('inf')\n",
    "        best_idx = None\n",
    "        for f in av_facs:\n",
    "            if f in used:\n",
    "                cost = length(customers[c].location,facilities[f].location)\n",
    "            else:\n",
    "                cost = (length(customers[c].location,facilities[f].location) +\n",
    "                        facilities[f].setup_cost)\n",
    "            # updates smallest cost found\n",
    "            if cost < best_cost:\n",
    "                best_cost = cost\n",
    "                best_idx = f\n",
    "        # updates solution assignment, used facilities and available capacity vector\n",
    "        sol[c]=best_idx\n",
    "        av_cap[best_idx] -= customers[c].demand\n",
    "        #checks if facility is already open, if it isn't add it to list\n",
    "        if best_idx not in used:\n",
    "            used.append(best_idx)\n",
    "    return sol\n",
    " \n",
    "def cgreedy_solver(input_data):\n",
    "    # parse the input\n",
    "    lines = input_data.split('\\n')\n",
    "\n",
    "    parts = lines[0].split()\n",
    "    facility_count = int(parts[0])\n",
    "    customer_count = int(parts[1])\n",
    "    \n",
    "    facilities = []\n",
    "    for i in range(1, facility_count+1):\n",
    "        parts = lines[i].split()\n",
    "        facilities.append(Facility(i-1, float(parts[0]), int(parts[1]), Point(float(parts[2]), float(parts[3])) ))\n",
    "\n",
    "    customers = []\n",
    "    for i in range(facility_count+1, facility_count+1+customer_count):\n",
    "        parts = lines[i].split()\n",
    "        customers.append(Customer(i-1-facility_count, int(parts[0]), Point(float(parts[1]), float(parts[2]))))\n",
    "    \n",
    "    print('F count:',facility_count)\n",
    "    print('C count:',customer_count)\n",
    "    \n",
    "    best_cost = float('inf')\n",
    "    best_sol = None\n",
    "    max_it = 300\n",
    "    \n",
    "    # start with random order of clients\n",
    "    c_order = sample(range(customer_count), customer_count)\n",
    "    cost_hist = []\n",
    "    best_cost_hist = []\n",
    "    for i in tqdm(range(max_it)):\n",
    "        solution = greedy_iter(c_order, customers, facilities)\n",
    "        if cost(solution,customers, facilities) < best_cost:\n",
    "            best_cost = cost(solution, customers, facilities)\n",
    "            best_sol = solution\n",
    "        # reorder\n",
    "        cost_hist.append(cost(solution,customers, facilities))\n",
    "        best_cost_hist.append(best_cost)\n",
    "        c_order = sample(range(customer_count), customer_count)\n",
    "        \n",
    "    solution = best_sol\n",
    "    \n",
    "    print('Done iterating')\n",
    "    # calculate the cost of the solution\n",
    "    obj = cost(solution, customers, facilities)\n",
    "    \n",
    "    # prepare the solution in the specified output format\n",
    "    output_data = '%.2f' % obj + ' ' + str(0) + '\\n'\n",
    "    output_data += ' '.join(map(str, solution))\n",
    "    \n",
    "    plt.subplot(1,2,1)\n",
    "    sol_plot(input_data,solution)\n",
    "    plt.subplot(1,2,2)\n",
    "    plt.plot(cost_hist,'b')\n",
    "    plt.plot(best_cost_hist,'r')\n",
    "    return output_data"
   ]
  },
  {
   "cell_type": "code",
   "execution_count": 10,
   "metadata": {
    "ExecuteTime": {
     "end_time": "2020-07-27T19:23:05.602637Z",
     "start_time": "2020-07-27T19:22:13.644106Z"
    }
   },
   "outputs": [
    {
     "name": "stdout",
     "output_type": "stream",
     "text": [
      "F count: 500\n",
      "C count: 1000\n"
     ]
    },
    {
     "data": {
      "application/vnd.jupyter.widget-view+json": {
       "model_id": "a7f30ae5895f46798e2c9b7e932573fd",
       "version_major": 2,
       "version_minor": 0
      },
      "text/plain": [
       "HBox(children=(FloatProgress(value=0.0, max=300.0), HTML(value='')))"
      ]
     },
     "metadata": {},
     "output_type": "display_data"
    },
    {
     "name": "stdout",
     "output_type": "stream",
     "text": [
      "\n"
     ]
    },
    {
     "ename": "KeyboardInterrupt",
     "evalue": "",
     "output_type": "error",
     "traceback": [
      "\u001b[1;31m---------------------------------------------------------------------------\u001b[0m",
      "\u001b[1;31mKeyboardInterrupt\u001b[0m                         Traceback (most recent call last)",
      "\u001b[1;32m<ipython-input-10-773a2c8ce8a9>\u001b[0m in \u001b[0;36m<module>\u001b[1;34m\u001b[0m\n\u001b[0;32m      6\u001b[0m     \u001b[1;32mwith\u001b[0m \u001b[0mopen\u001b[0m\u001b[1;33m(\u001b[0m\u001b[0mfile_location\u001b[0m\u001b[1;33m,\u001b[0m \u001b[1;34m'r'\u001b[0m\u001b[1;33m)\u001b[0m \u001b[1;32mas\u001b[0m \u001b[0minput_data_file\u001b[0m\u001b[1;33m:\u001b[0m\u001b[1;33m\u001b[0m\u001b[1;33m\u001b[0m\u001b[0m\n\u001b[0;32m      7\u001b[0m         \u001b[0minput_data\u001b[0m \u001b[1;33m=\u001b[0m \u001b[0minput_data_file\u001b[0m\u001b[1;33m.\u001b[0m\u001b[0mread\u001b[0m\u001b[1;33m(\u001b[0m\u001b[1;33m)\u001b[0m\u001b[1;33m\u001b[0m\u001b[1;33m\u001b[0m\u001b[0m\n\u001b[1;32m----> 8\u001b[1;33m         \u001b[0mprint\u001b[0m\u001b[1;33m(\u001b[0m\u001b[0mcgreedy_solver\u001b[0m\u001b[1;33m(\u001b[0m\u001b[0minput_data\u001b[0m\u001b[1;33m)\u001b[0m\u001b[1;33m)\u001b[0m\u001b[1;33m\u001b[0m\u001b[1;33m\u001b[0m\u001b[0m\n\u001b[0m",
      "\u001b[1;32m<ipython-input-9-8b824792ef83>\u001b[0m in \u001b[0;36mcgreedy_solver\u001b[1;34m(input_data)\u001b[0m\n\u001b[0;32m     85\u001b[0m     \u001b[0mbest_cost_hist\u001b[0m \u001b[1;33m=\u001b[0m \u001b[1;33m[\u001b[0m\u001b[1;33m]\u001b[0m\u001b[1;33m\u001b[0m\u001b[1;33m\u001b[0m\u001b[0m\n\u001b[0;32m     86\u001b[0m     \u001b[1;32mfor\u001b[0m \u001b[0mi\u001b[0m \u001b[1;32min\u001b[0m \u001b[0mtqdm\u001b[0m\u001b[1;33m(\u001b[0m\u001b[0mrange\u001b[0m\u001b[1;33m(\u001b[0m\u001b[0mmax_it\u001b[0m\u001b[1;33m)\u001b[0m\u001b[1;33m)\u001b[0m\u001b[1;33m:\u001b[0m\u001b[1;33m\u001b[0m\u001b[1;33m\u001b[0m\u001b[0m\n\u001b[1;32m---> 87\u001b[1;33m         \u001b[0msolution\u001b[0m \u001b[1;33m=\u001b[0m \u001b[0mgreedy_iter\u001b[0m\u001b[1;33m(\u001b[0m\u001b[0mc_order\u001b[0m\u001b[1;33m,\u001b[0m \u001b[0mcustomers\u001b[0m\u001b[1;33m,\u001b[0m \u001b[0mfacilities\u001b[0m\u001b[1;33m)\u001b[0m\u001b[1;33m\u001b[0m\u001b[1;33m\u001b[0m\u001b[0m\n\u001b[0m\u001b[0;32m     88\u001b[0m         \u001b[1;32mif\u001b[0m \u001b[0mcost\u001b[0m\u001b[1;33m(\u001b[0m\u001b[0msolution\u001b[0m\u001b[1;33m,\u001b[0m\u001b[0mcustomers\u001b[0m\u001b[1;33m,\u001b[0m \u001b[0mfacilities\u001b[0m\u001b[1;33m)\u001b[0m \u001b[1;33m<\u001b[0m \u001b[0mbest_cost\u001b[0m\u001b[1;33m:\u001b[0m\u001b[1;33m\u001b[0m\u001b[1;33m\u001b[0m\u001b[0m\n\u001b[0;32m     89\u001b[0m             \u001b[0mbest_cost\u001b[0m \u001b[1;33m=\u001b[0m \u001b[0mcost\u001b[0m\u001b[1;33m(\u001b[0m\u001b[0msolution\u001b[0m\u001b[1;33m,\u001b[0m \u001b[0mcustomers\u001b[0m\u001b[1;33m,\u001b[0m \u001b[0mfacilities\u001b[0m\u001b[1;33m)\u001b[0m\u001b[1;33m\u001b[0m\u001b[1;33m\u001b[0m\u001b[0m\n",
      "\u001b[1;32m<ipython-input-9-8b824792ef83>\u001b[0m in \u001b[0;36mgreedy_iter\u001b[1;34m(c_order, customers, facilities)\u001b[0m\n\u001b[0;32m     41\u001b[0m                 \u001b[0mcost\u001b[0m \u001b[1;33m=\u001b[0m \u001b[0mlength\u001b[0m\u001b[1;33m(\u001b[0m\u001b[0mcustomers\u001b[0m\u001b[1;33m[\u001b[0m\u001b[0mc\u001b[0m\u001b[1;33m]\u001b[0m\u001b[1;33m.\u001b[0m\u001b[0mlocation\u001b[0m\u001b[1;33m,\u001b[0m\u001b[0mfacilities\u001b[0m\u001b[1;33m[\u001b[0m\u001b[0mf\u001b[0m\u001b[1;33m]\u001b[0m\u001b[1;33m.\u001b[0m\u001b[0mlocation\u001b[0m\u001b[1;33m)\u001b[0m\u001b[1;33m\u001b[0m\u001b[1;33m\u001b[0m\u001b[0m\n\u001b[0;32m     42\u001b[0m             \u001b[1;32melse\u001b[0m\u001b[1;33m:\u001b[0m\u001b[1;33m\u001b[0m\u001b[1;33m\u001b[0m\u001b[0m\n\u001b[1;32m---> 43\u001b[1;33m                 cost = (length(customers[c].location,facilities[f].location) +\n\u001b[0m\u001b[0;32m     44\u001b[0m                         facilities[f].setup_cost)\n\u001b[0;32m     45\u001b[0m             \u001b[1;31m# updates smallest cost found\u001b[0m\u001b[1;33m\u001b[0m\u001b[1;33m\u001b[0m\u001b[1;33m\u001b[0m\u001b[0m\n",
      "\u001b[1;31mKeyboardInterrupt\u001b[0m: "
     ]
    }
   ],
   "source": [
    "notebook_path = os.path.abspath(\"Notebook.ipynb\")\n",
    "data_path = os.path.join(os.path.dirname(notebook_path), \"data\\\\fl_500_6\")\n",
    "\n",
    "if len(data_path) > 1:\n",
    "    file_location = data_path.strip()\n",
    "    with open(file_location, 'r') as input_data_file:\n",
    "        input_data = input_data_file.read()\n",
    "        print(cgreedy_solver(input_data))"
   ]
  },
  {
   "cell_type": "code",
   "execution_count": null,
   "metadata": {},
   "outputs": [],
   "source": []
  }
 ],
 "metadata": {
  "kernelspec": {
   "display_name": "Python 3",
   "language": "python",
   "name": "python3"
  },
  "language_info": {
   "codemirror_mode": {
    "name": "ipython",
    "version": 3
   },
   "file_extension": ".py",
   "mimetype": "text/x-python",
   "name": "python",
   "nbconvert_exporter": "python",
   "pygments_lexer": "ipython3",
   "version": "3.6.7"
  }
 },
 "nbformat": 4,
 "nbformat_minor": 4
}
